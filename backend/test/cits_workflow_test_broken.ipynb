{
 "cells": [
  {
   "cell_type": "markdown",
   "metadata": {},
   "source": [
    "# CITS 工作流程測試筆記本\n",
    "# CITS Workflow Test Notebook\n",
    "\n",
    "此筆記本示範使用 KEEN 函式庫進行 CITS 數據分析的完整工作流程。  \n",
    "This notebook demonstrates the complete CITS data analysis workflow using KEEN library functions.\n",
    "\n",
    "**主要功能 / Main Features:**\n",
    "1. CITS 偏壓切片顯示（可調整索引）/ CITS bias slice display (adjustable index)\n",
    "2. 線剖面能帶圖 / Line profile band diagram\n",
    "3. 堆疊光譜圖（可調整偏移）/ Stacked spectra plot (adjustable offset)\n",
    "\n",
    "**設計理念 / Design Philosophy:**\n",
    "- 使用函式庫函數，最少自定義程式碼 / Use library functions with minimal custom code\n",
    "- 直接調用 visualization 模組的繪圖函數 / Direct calls to visualization module plotting functions\n",
    "- 清晰的數據流：載入 → 提取 → 繪圖 / Clear data flow: load → extract → plot"
   ]
  },
  {
   "cell_type": "markdown",
   "metadata": {},
   "source": [
    "## 設定區域 / Configuration Section\n",
    "\n",
    "**請在此修改您的檔案路徑和參數 / Please modify your file paths and parameters here**"
   ]
  },
  {
   "cell_type": "code",
   "metadata": {},
   "outputs": [],
   "source": "# 載入實驗數據 / Load experiment data\nprint(\"📂 載入檔案...\")\ntry:\n    session = ExperimentSession(TXT_FILE_PATH)\n    print(f\"✅ 實驗: {session.experiment_name}\")\n    \n    available = session.available_files\n    total_files = sum(len(files) for files in available.values())\n    print(f\"📁 總檔案數: {total_files}\")\n    \n    # 列出可用的檔案 / List available files\n    print(\"\\n📋 可用檔案列表:\")\n    for file_type, file_list in available.items():\n        if file_list:\n            print(f\"  {file_type.upper()}:\")\n            for key in file_list:\n                print(f\"    - {key}\")\n        \nexcept Exception as e:\n    print(f\"❌ 載入失敗: {e}\")\n    raise"
  },
  {
   "cell_type": "markdown",
   "metadata": {},
   "source": "# 載入 CITS 數據 / Load CITS data\nprint(f\"🔍 載入 CITS 檔案: {CITS_FILE_KEY}\")\ntry:\n    cits_file = session[CITS_FILE_KEY]\n    cits_data = cits_file.data\n    \n    print(f\"✅ CITS 數據載入成功\")\n    print(f\"📊 數據形狀: {cits_data.shape}\")\n    print(f\"⚡ 偏壓範圍: {cits_data.bias_range[0]:.3f}V 到 {cits_data.bias_range[1]:.3f}V\")\n    print(f\"🔢 偏壓點數: {cits_data.n_bias_points}\")\n    print(f\"📐 網格大小: {cits_data.grid_size}\")\n    \n    # 準備用於分析函數的數據格式 / Prepare data format for analysis functions\n    cits_data_dict = {\n        'data_3d': cits_data.data_3d,\n        'bias_values': cits_data.bias_values,\n        'grid_size': cits_data.grid_size,\n        'measurement_mode': 'CITS',\n        'x_range': cits_data.x_range,\n        'y_range': cits_data.y_range\n    }\n    \nexcept Exception as e:\n    print(f\"❌ CITS 數據載入失敗: {e}\")\n    raise",
   "outputs": []
  },
  {
   "cell_type": "code",
   "execution_count": 5,
   "metadata": {},
   "outputs": [
    {
     "name": "stdout",
     "output_type": "stream",
     "text": [
      "✅ 模組導入完成 / Modules imported successfully\n"
     ]
    }
   ],
   "source": [
    "# 導入必要的模組 / Import necessary modules\n",
    "import sys\n",
    "import os\n",
    "sys.path.append(os.path.join(os.getcwd(), '..'))\n",
    "\n",
    "from core.experiment_session import ExperimentSession\n",
    "from core.visualization.spectroscopy_plots import SpectroscopyPlotting\n",
    "from core.analysis.cits_analysis import (\n",
    "    extract_cits_bias_slice,\n",
    "    extract_line_spectra_data,\n",
    "    extract_point_spectrum,\n",
    "    prepare_stacked_spectra_data\n",
    ")\n",
    "\n",
    "print(\"✅ 模組導入完成 / Modules imported successfully\")"
   ]
  },
  {
   "cell_type": "code",
   "execution_count": 3,
   "metadata": {},
   "outputs": [
    {
     "name": "stdout",
     "output_type": "stream",
     "text": [
      "📂 載入檔案...\n",
      "❌ 載入失敗: 'ExperimentSession' object has no attribute 'txt_data'\n"
     ]
    },
    {
     "ename": "AttributeError",
     "evalue": "'ExperimentSession' object has no attribute 'txt_data'",
     "output_type": "error",
     "traceback": [
      "\u001b[31m---------------------------------------------------------------------------\u001b[39m",
      "\u001b[31mAttributeError\u001b[39m                            Traceback (most recent call last)",
      "\u001b[36mCell\u001b[39m\u001b[36m \u001b[39m\u001b[32mIn[3]\u001b[39m\u001b[32m, line 5\u001b[39m\n\u001b[32m      3\u001b[39m \u001b[38;5;28;01mtry\u001b[39;00m:\n\u001b[32m      4\u001b[39m     session = ExperimentSession(TXT_FILE_PATH)\n\u001b[32m----> \u001b[39m\u001b[32m5\u001b[39m     \u001b[38;5;28mprint\u001b[39m(\u001b[33mf\u001b[39m\u001b[33m\"\u001b[39m\u001b[33m✅ 實驗: \u001b[39m\u001b[38;5;132;01m{\u001b[39;00m\u001b[43msession\u001b[49m\u001b[43m.\u001b[49m\u001b[43mtxt_data\u001b[49m.experiment_name\u001b[38;5;132;01m}\u001b[39;00m\u001b[33m\"\u001b[39m)\n\u001b[32m      6\u001b[39m     \u001b[38;5;28mprint\u001b[39m(\u001b[33mf\u001b[39m\u001b[33m\"\u001b[39m\u001b[33m📁 總檔案數: \u001b[39m\u001b[38;5;132;01m{\u001b[39;00m\u001b[38;5;28mlen\u001b[39m(session.file_info)\u001b[38;5;132;01m}\u001b[39;00m\u001b[33m\"\u001b[39m)\n\u001b[32m      8\u001b[39m     \u001b[38;5;66;03m# 列出可用的檔案 / List available files\u001b[39;00m\n",
      "\u001b[31mAttributeError\u001b[39m: 'ExperimentSession' object has no attribute 'txt_data'"
     ]
    }
   ],
   "source": [
    "# 載入實驗數據 / Load experiment data\n",
    "print(\"📂 載入檔案...\")\n",
    "try:\n",
    "    session = ExperimentSession(TXT_FILE_PATH)\n",
    "    print(f\"✅ 實驗: {session.txt_data.experiment_name}\")\n",
    "    print(f\"📁 總檔案數: {len(session.file_info)}\")\n",
    "    \n",
    "    # 列出可用的檔案 / List available files\n",
    "    print(\"\\n📋 可用檔案列表:\")\n",
    "    for key, info in session.file_info.items():\n",
    "        print(f\"  - {key}: {info.filename} ({info.human_readable_size})\")\n",
    "        \n",
    "except Exception as e:\n",
    "    print(f\"❌ 載入失敗: {e}\")\n",
    "    raise"
   ]
  },
  {
   "cell_type": "code",
   "execution_count": null,
   "metadata": {},
   "outputs": [],
   "source": [
    "# 載入 CITS 數據 / Load CITS data\n",
    "print(f\"🔍 載入 CITS 檔案: {CITS_FILE_KEY}\")\n",
    "try:\n",
    "    cits_file = session[CITS_FILE_KEY]\n",
    "    cits_data = cits_file.data\n",
    "    \n",
    "    print(f\"✅ CITS 數據載入成功\")\n",
    "    print(f\"📊 數據形狀: {cits_data.shape}\")\n",
    "    print(f\"⚡ 偏壓範圍: {cits_data.bias_range[0]:.3f}V 到 {cits_data.bias_range[1]:.3f}V\")\n",
    "    print(f\"🔢 偏壓點數: {cits_data.n_bias_points}\")\n",
    "    print(f\"📐 網格大小: {cits_data.grid_size}\")\n",
    "    \n",
    "    # 準備用於分析函數的數據格式 / Prepare data format for analysis functions\n",
    "    cits_data_dict = {\n",
    "        'data_3d': cits_data.data_3d,\n",
    "        'bias_values': cits_data.bias_values,\n",
    "        'grid_size': cits_data.grid_size,\n",
    "        'measurement_mode': 'CITS',\n",
    "        'x_range': cits_data.x_range,\n",
    "        'y_range': cits_data.y_range\n",
    "    }\n",
    "    \n",
    "except Exception as e:\n",
    "    print(f\"❌ CITS 數據載入失敗: {e}\")\n",
    "    raise"
   ]
  },
  {
   "cell_type": "markdown",
   "metadata": {},
   "source": [
    "## 2. CITS 偏壓切片顯示 / CITS Bias Slice Display\n",
    "\n",
    "使用函式庫函數顯示特定偏壓的 CITS 切片  \n",
    "Using library functions to display CITS slice at specific bias"
   ]
  },
  {
   "cell_type": "code",
   "execution_count": null,
   "metadata": {},
   "outputs": [],
   "source": [
    "# 提取偏壓切片數據 / Extract bias slice data\n",
    "print(f\"🔪 提取偏壓切片，索引: {BIAS_INDEX}\")\n",
    "try:\n",
    "    bias_slice_info = extract_cits_bias_slice(cits_data_dict, BIAS_INDEX)\n",
    "    \n",
    "    print(f\"✅ 切片提取成功\")\n",
    "    print(f\"⚡ 偏壓值: {bias_slice_info['bias_value']:.3f}V\")\n",
    "    print(f\"📊 切片形狀: {bias_slice_info['slice_data'].shape}\")\n",
    "    \n",
    "except Exception as e:\n",
    "    print(f\"❌ 偏壓切片提取失敗: {e}\")\n",
    "    raise"
   ]
  },
  {
   "cell_type": "code",
   "execution_count": null,
   "metadata": {},
   "outputs": [],
   "source": [
    "# 繪製偏壓切片 / Plot bias slice\n",
    "print(\"🎨 繪製 CITS 偏壓切片...\")\n",
    "try:\n",
    "    fig_bias_slice = SpectroscopyPlotting.plot_cits_bias_slice(\n",
    "        data_3d=cits_data_dict['data_3d'],\n",
    "        bias_values=cits_data_dict['bias_values'],\n",
    "        bias_index=BIAS_INDEX,\n",
    "        title=f\"CITS 偏壓切片 @ {bias_slice_info['bias_value']:.3f}V\",\n",
    "        colorscale='Viridis',\n",
    "        width=700,\n",
    "        height=700\n",
    "    )\n",
    "    \n",
    "    fig_bias_slice.show()\n",
    "    print(\"✅ 偏壓切片繪製完成\")\n",
    "    \n",
    "except Exception as e:\n",
    "    print(f\"❌ 偏壓切片繪製失敗: {e}\")\n",
    "    raise"
   ]
  },
  {
   "cell_type": "markdown",
   "metadata": {},
   "source": [
    "## 3. 線剖面能帶圖 / Line Profile Band Diagram\n",
    "\n",
    "提取線剖面光譜數據並繪製能帶圖  \n",
    "Extract line profile spectra data and plot band diagram"
   ]
  },
  {
   "cell_type": "code",
   "execution_count": null,
   "metadata": {},
   "outputs": [],
   "source": [
    "# 提取線剖面光譜數據 / Extract line profile spectra data\n",
    "print(f\"📏 提取線剖面: {LINE_START} → {LINE_END}\")\n",
    "try:\n",
    "    line_data = extract_line_spectra_data(\n",
    "        cits_data_dict, \n",
    "        LINE_START, \n",
    "        LINE_END, \n",
    "        sampling_method='bresenham'\n",
    "    )\n",
    "    \n",
    "    print(f\"✅ 線剖面提取成功\")\n",
    "    print(f\"📊 光譜數據形狀: {line_data['line_spectra'].shape}\")\n",
    "    print(f\"📐 物理長度: {line_data['physical_length']:.2f}\")\n",
    "    print(f\"🔢 採樣點數: {line_data['n_points']}\")\n",
    "    \n",
    "except Exception as e:\n",
    "    print(f\"❌ 線剖面提取失敗: {e}\")\n",
    "    raise"
   ]
  },
  {
   "cell_type": "code",
   "execution_count": null,
   "metadata": {},
   "outputs": [],
   "source": [
    "# 繪製能帶圖 / Plot band diagram\n",
    "print(\"🎨 繪製能帶圖...\")\n",
    "try:\n",
    "    fig_band = SpectroscopyPlotting.plot_band_diagram(\n",
    "        line_spectra=line_data['line_spectra'],\n",
    "        bias_values=line_data['bias_values'],\n",
    "        distances=line_data['distances'],\n",
    "        title=f\"能帶圖 - 線剖面 {LINE_START}→{LINE_END}\",\n",
    "        use_log_scale=USE_LOG_SCALE,\n",
    "        colorscale='RdBu',\n",
    "        width=900,\n",
    "        height=600\n",
    "    )\n",
    "    \n",
    "    fig_band.show()\n",
    "    print(\"✅ 能帶圖繪製完成\")\n",
    "    \n",
    "except Exception as e:\n",
    "    print(f\"❌ 能帶圖繪製失敗: {e}\")\n",
    "    raise"
   ]
  },
  {
   "cell_type": "markdown",
   "metadata": {},
   "source": [
    "## 4. 堆疊光譜圖 / Stacked Spectra Plot\n",
    "\n",
    "顯示多條 STS 光譜曲線，帶垂直偏移  \n",
    "Display multiple STS spectra curves with vertical offset"
   ]
  },
  {
   "cell_type": "code",
   "execution_count": null,
   "metadata": {},
   "outputs": [],
   "source": [
    "# 準備堆疊光譜數據 / Prepare stacked spectra data\n",
    "print(f\"📚 準備堆疊光譜數據，最大曲線數: {MAX_CURVES}\")\n",
    "try:\n",
    "    stacked_data = prepare_stacked_spectra_data(\n",
    "        line_spectra=line_data['line_spectra'],\n",
    "        bias_values=line_data['bias_values'],\n",
    "        max_curves=MAX_CURVES,\n",
    "        step_selection='uniform'\n",
    "    )\n",
    "    \n",
    "    print(f\"✅ 堆疊數據準備完成\")\n",
    "    print(f\"📊 選定曲線數: {stacked_data['n_selected']} / {stacked_data['total_positions']}\")\n",
    "    print(f\"🔢 選定位置: {stacked_data['selected_indices'][:5]}...\")\n",
    "    \n",
    "except Exception as e:\n",
    "    print(f\"❌ 堆疊數據準備失敗: {e}\")\n",
    "    raise"
   ]
  },
  {
   "cell_type": "code",
   "execution_count": null,
   "metadata": {},
   "outputs": [],
   "source": [
    "# 繪製堆疊光譜圖 / Plot stacked spectra\n",
    "print(\"🎨 繪製堆疊光譜圖...\")\n",
    "try:\n",
    "    fig_stacked = SpectroscopyPlotting.plot_stacked_spectra(\n",
    "        line_spectra=stacked_data['selected_spectra'],\n",
    "        bias_values=stacked_data['bias_values'],\n",
    "        offset_factor=OFFSET_FACTOR,\n",
    "        positions=stacked_data['selected_positions'],\n",
    "        max_curves=MAX_CURVES,\n",
    "        title=f\"堆疊光譜圖 - 線剖面 {LINE_START}→{LINE_END}\",\n",
    "        width=900,\n",
    "        height=700\n",
    "    )\n",
    "    \n",
    "    fig_stacked.show()\n",
    "    print(\"✅ 堆疊光譜圖繪製完成\")\n",
    "    \n",
    "except Exception as e:\n",
    "    print(f\"❌ 堆疊光譜圖繪製失敗: {e}\")\n",
    "    raise"
   ]
  },
  {
   "cell_type": "markdown",
   "metadata": {},
   "source": [
    "## 5. 額外示範：單點光譜提取 / Additional Demo: Single Point Spectrum\n",
    "\n",
    "示範如何提取和繪製單點 STS 光譜  \n",
    "Demonstrate how to extract and plot single point STS spectrum"
   ]
  },
  {
   "cell_type": "code",
   "execution_count": null,
   "metadata": {},
   "outputs": [],
   "source": [
    "# 提取單點光譜 / Extract single point spectrum\n",
    "POINT_X, POINT_Y = 30, 30  # 設定要分析的點座標 / Set point coordinates to analyze\n",
    "\n",
    "print(f\"📍 提取單點光譜，座標: ({POINT_X}, {POINT_Y})\")\n",
    "try:\n",
    "    point_data = extract_point_spectrum(cits_data_dict, POINT_X, POINT_Y)\n",
    "    \n",
    "    print(f\"✅ 單點光譜提取成功\")\n",
    "    print(f\"📊 光譜點數: {point_data['n_points']}\")\n",
    "    print(f\"⚡ 偏壓範圍: {point_data['bias_values'][0]:.3f}V 到 {point_data['bias_values'][-1]:.3f}V\")\n",
    "    \n",
    "except Exception as e:\n",
    "    print(f\"❌ 單點光譜提取失敗: {e}\")\n",
    "    raise"
   ]
  },
  {
   "cell_type": "code",
   "execution_count": null,
   "metadata": {},
   "outputs": [],
   "source": [
    "# 繪製單點 STS 光譜 / Plot single point STS spectrum\n",
    "print(\"🎨 繪製單點 STS 光譜...\")\n",
    "try:\n",
    "    fig_point = SpectroscopyPlotting.plot_sts_spectrum(\n",
    "        bias_values=point_data['bias_values'],\n",
    "        current=point_data['current'],\n",
    "        conductance=point_data['conductance'],\n",
    "        title=f\"STS 光譜 @ 座標 ({POINT_X}, {POINT_Y})\",\n",
    "        show_conductance=True,\n",
    "        width=800,\n",
    "        height=500\n",
    "    )\n",
    "    \n",
    "    fig_point.show()\n",
    "    print(\"✅ 單點 STS 光譜繪製完成\")\n",
    "    \n",
    "except Exception as e:\n",
    "    print(f\"❌ 單點 STS 光譜繪製失敗: {e}\")\n",
    "    raise"
   ]
  },
  {
   "cell_type": "markdown",
   "metadata": {},
   "source": [
    "## 總結 / Summary\n",
    "\n",
    "**工作流程完成！/ Workflow Complete!**\n",
    "\n",
    "✅ **已完成的分析 / Completed Analysis:**\n",
    "1. CITS 偏壓切片顯示 / CITS bias slice display\n",
    "2. 線剖面能帶圖 / Line profile band diagram  \n",
    "3. 堆疊光譜圖 / Stacked spectra plot\n",
    "4. 單點 STS 光譜 / Single point STS spectrum\n",
    "\n",
    "**主要特點 / Key Features:**\n",
    "- 🔧 **函式庫導向**: 使用標準化的分析和繪圖函數 / Library-oriented: Using standardized analysis and plotting functions\n",
    "- 🎯 **最少自定義程式碼**: 專注於數據分析而非程式實作 / Minimal custom code: Focus on data analysis rather than implementation\n",
    "- 📊 **完整視覺化**: 包含所有主要的 CITS 分析圖表 / Complete visualization: Including all major CITS analysis plots\n",
    "- ⚙️ **參數化設計**: 易於調整和重複使用 / Parameterized design: Easy to adjust and reuse\n",
    "\n",
    "**調整參數以測試不同條件 / Adjust parameters to test different conditions:**\n",
    "- 修改 `BIAS_INDEX` 查看不同偏壓的切片 / Modify `BIAS_INDEX` to view slices at different biases\n",
    "- 改變 `LINE_START` 和 `LINE_END` 分析不同的線剖面 / Change `LINE_START` and `LINE_END` to analyze different line profiles\n",
    "- 調整 `OFFSET_FACTOR` 改變堆疊光譜的分離度 / Adjust `OFFSET_FACTOR` to change stacked spectra separation"
   ]
  }
 ],
 "metadata": {
  "kernelspec": {
   "display_name": "keen",
   "language": "python",
   "name": "python3"
  },
  "language_info": {
   "codemirror_mode": {
    "name": "ipython",
    "version": 3
   },
   "file_extension": ".py",
   "mimetype": "text/x-python",
   "name": "python",
   "nbconvert_exporter": "python",
   "pygments_lexer": "ipython3",
   "version": "3.13.3"
  }
 },
 "nbformat": 4,
 "nbformat_minor": 4
}