{
 "cells": [
  {
   "cell_type": "markdown",
   "metadata": {},
   "source": [
    "# CITS 工作流程測試筆記本\n",
    "# CITS Workflow Test Notebook\n",
    "\n",
    "此筆記本示範使用 KEEN 函式庫進行 CITS 數據分析的完整工作流程。  \n",
    "This notebook demonstrates the complete CITS data analysis workflow using KEEN library functions.\n",
    "\n",
    "**主要功能 / Main Features:**\n",
    "1. CITS 偏壓切片顯示（可調整索引）/ CITS bias slice display (adjustable index)\n",
    "2. 線剖面能帶圖 / Line profile band diagram\n",
    "3. 堆疊光譜圖（可調整偏移）/ Stacked spectra plot (adjustable offset)\n",
    "\n",
    "**設計理念 / Design Philosophy:**\n",
    "- 使用函式庫函數，最少自定義程式碼 / Use library functions with minimal custom code\n",
    "- 直接調用 visualization 模組的繪圖函數 / Direct calls to visualization module plotting functions\n",
    "- 清晰的數據流：載入 → 提取 → 繪圖 / Clear data flow: load → extract → plot"
   ]
  },
  {
   "cell_type": "markdown",
   "metadata": {},
   "source": [
    "## 設定區域 / Configuration Section\n",
    "\n",
    "**請在此修改您的檔案路徑和參數 / Please modify your file paths and parameters here**"
   ]
  },
  {
   "cell_type": "code",
   "execution_count": 1,
   "metadata": {},
   "outputs": [
    {
     "name": "stdout",
     "output_type": "stream",
     "text": [
      "⚙️ 設定完成 / Configuration completed\n",
      "📁 TXT 檔案: /Users/yangziliang/Git-Projects/keen/testfile/20250521_Janus Stacking SiO2_13K_113.txt\n",
      "🔍 CITS 檔案: Lia1R_Matrix (將自動檢查是否存在)\n"
     ]
    }
   ],
   "source": [
    "# ============== 設定區域 / Configuration Section ==============\n",
    "\n",
    "# 檔案路徑設定 / File path configuration\n",
    "TXT_FILE_PATH = \"/Users/yangziliang/Git-Projects/keen/testfile/20250521_Janus Stacking SiO2_13K_113.txt\"\n",
    "\n",
    "# CITS 檔案名稱（無副檔名）/ CITS file name (without extension)\n",
    "# 注意：如果指定的檔案不存在，程式會自動選擇第一個可用的 CITS 檔案\n",
    "# Note: If the specified file doesn't exist, the program will automatically select the first available CITS file\n",
    "CITS_FILE_KEY = \"Lia1R_Matrix\"  # 常見選項: *_Matrix (例如 Lia1R_Matrix, Lia1Y_Matrix, Lia2R_Matrix)\n",
    "\n",
    "# 分析參數 / Analysis parameters\n",
    "BIAS_INDEX = 50          # 偏壓切片索引 / Bias slice index (0 to n_bias-1)\n",
    "LINE_START = (10, 10)    # 線剖面起點 / Line profile start point (x, y)\n",
    "LINE_END = (50, 50)      # 線剖面終點 / Line profile end point (x, y)\n",
    "OFFSET_FACTOR = 1.0      # 堆疊光譜偏移係數 / Stacked spectra offset factor\n",
    "\n",
    "# 顯示參數 / Display parameters  \n",
    "USE_LOG_SCALE = False    # 能帶圖是否使用對數尺度 / Whether to use log scale for band diagram\n",
    "MAX_CURVES = 15          # 堆疊光譜最大顯示曲線數 / Maximum curves for stacked spectra\n",
    "\n",
    "# ================================================================\n",
    "\n",
    "print(\"⚙️ 設定完成 / Configuration completed\")\n",
    "print(f\"📁 TXT 檔案: {TXT_FILE_PATH}\")\n",
    "print(f\"🔍 CITS 檔案: {CITS_FILE_KEY} (將自動檢查是否存在)\")"
   ]
  },
  {
   "cell_type": "markdown",
   "metadata": {},
   "source": [
    "## 1. 初始化和數據載入 / Initialization and Data Loading"
   ]
  },
  {
   "cell_type": "code",
   "execution_count": 2,
   "metadata": {},
   "outputs": [
    {
     "name": "stdout",
     "output_type": "stream",
     "text": [
      "✅ 模組導入完成 / Modules imported successfully\n"
     ]
    }
   ],
   "source": [
    "# 導入必要的模組 / Import necessary modules\n",
    "import sys\n",
    "import os\n",
    "import numpy as np\n",
    "sys.path.append(os.path.join(os.getcwd(), '..'))\n",
    "\n",
    "from core.experiment_session import ExperimentSession\n",
    "from core.visualization.spectroscopy_plots import SpectroscopyPlotting\n",
    "from core.analysis.cits_analysis import (\n",
    "    extract_cits_bias_slice,\n",
    "    extract_line_spectra_data,\n",
    "    extract_point_spectrum,\n",
    "    prepare_stacked_spectra_data\n",
    ")\n",
    "\n",
    "print(\"✅ 模組導入完成 / Modules imported successfully\")"
   ]
  },
  {
   "cell_type": "code",
   "execution_count": 3,
   "metadata": {},
   "outputs": [
    {
     "name": "stdout",
     "output_type": "stream",
     "text": [
      "📂 載入檔案...\n",
      "✅ 實驗: Unknown\n",
      "📁 總檔案數: 17\n",
      "\n",
      "📋 可用檔案列表:\n",
      "  TXT:\n",
      "    - 20250521_Janus Stacking SiO2_13K_113\n",
      "  TOPO:\n",
      "    - 20250521_Janus Stacking SiO2_13K_113TopoFwd\n",
      "    - 20250521_Janus Stacking SiO2_13K_113TopoBwd\n",
      "    - 20250521_Janus Stacking SiO2_13K_113Lia1XFwd\n",
      "    - 20250521_Janus Stacking SiO2_13K_113Lia1XBwd\n",
      "    - 20250521_Janus Stacking SiO2_13K_113Lia1YFwd\n",
      "    - 20250521_Janus Stacking SiO2_13K_113Lia1YBwd\n",
      "    - 20250521_Janus Stacking SiO2_13K_113Lia1RFwd\n",
      "    - 20250521_Janus Stacking SiO2_13K_113Lia1RBwd\n",
      "    - 20250521_Janus Stacking SiO2_13K_113Lia2RFwd\n",
      "    - 20250521_Janus Stacking SiO2_13K_113Lia2RBwd\n",
      "    - 20250521_Janus Stacking SiO2_13K_113It_to_PCFwd\n",
      "    - 20250521_Janus Stacking SiO2_13K_113It_to_PCBwd\n",
      "  CITS:\n",
      "    - 20250521_Janus Stacking SiO2_13K_113It_to_PC_Matrix\n",
      "    - 20250521_Janus Stacking SiO2_13K_113Lia1R_Matrix\n",
      "    - 20250521_Janus Stacking SiO2_13K_113Lia1Y_Matrix\n",
      "    - 20250521_Janus Stacking SiO2_13K_113Lia2R_Matrix\n"
     ]
    }
   ],
   "source": [
    "# 載入實驗數據 / Load experiment data\n",
    "print(\"📂 載入檔案...\")\n",
    "try:\n",
    "    session = ExperimentSession(TXT_FILE_PATH)\n",
    "    print(f\"✅ 實驗: {session.experiment_name}\")\n",
    "    \n",
    "    available = session.available_files\n",
    "    total_files = sum(len(files) for files in available.values())\n",
    "    print(f\"📁 總檔案數: {total_files}\")\n",
    "    \n",
    "    # 列出可用的檔案 / List available files\n",
    "    print(\"\\n📋 可用檔案列表:\")\n",
    "    for file_type, file_list in available.items():\n",
    "        if file_list:\n",
    "            print(f\"  {file_type.upper()}:\")\n",
    "            for key in file_list:\n",
    "                print(f\"    - {key}\")\n",
    "        \n",
    "except Exception as e:\n",
    "    print(f\"❌ 載入失敗: {e}\")\n",
    "    raise"
   ]
  },
  {
   "cell_type": "code",
   "execution_count": 4,
   "metadata": {},
   "outputs": [
    {
     "name": "stdout",
     "output_type": "stream",
     "text": [
      "🔍 檢查可用的 CITS 檔案...\n",
      "📋 可用的 CITS 檔案: ['20250521_Janus Stacking SiO2_13K_113It_to_PC_Matrix', '20250521_Janus Stacking SiO2_13K_113Lia1R_Matrix', '20250521_Janus Stacking SiO2_13K_113Lia1Y_Matrix', '20250521_Janus Stacking SiO2_13K_113Lia2R_Matrix']\n",
      "⚠️  原設定檔案不存在，改用: 20250521_Janus Stacking SiO2_13K_113It_to_PC_Matrix\n",
      "🔍 載入 CITS 檔案: 20250521_Janus Stacking SiO2_13K_113It_to_PC_Matrix\n",
      "✅ CITS 數據載入成功\n",
      "📊 數據形狀: (401, 100, 100)\n",
      "⚡ 偏壓範圍: -2050.000V 到 1050.000V\n",
      "🔢 偏壓點數: 401\n",
      "📐 網格大小: [100, 100]\n"
     ]
    },
    {
     "name": "stderr",
     "output_type": "stream",
     "text": [
      "/Users/yangziliang/Git-Projects/keen/backend/test/../core/parsers/dat_parser.py:84: DtypeWarning:\n",
      "\n",
      "Columns (0,1,2) have mixed types. Specify dtype option on import or set low_memory=False.\n",
      "\n"
     ]
    }
   ],
   "source": [
    "# 載入 CITS 數據 / Load CITS data\n",
    "print(f\"🔍 檢查可用的 CITS 檔案...\")\n",
    "\n",
    "# 先檢查可用的 CITS 檔案\n",
    "available_cits = session.available_files['cits']\n",
    "print(f\"📋 可用的 CITS 檔案: {available_cits}\")\n",
    "\n",
    "# 如果設定的檔案不存在，使用第一個可用的 CITS 檔案\n",
    "if CITS_FILE_KEY not in available_cits:\n",
    "    if available_cits:\n",
    "        CITS_FILE_KEY = available_cits[0]\n",
    "        print(f\"⚠️  原設定檔案不存在，改用: {CITS_FILE_KEY}\")\n",
    "    else:\n",
    "        raise ValueError(\"❌ 沒有找到任何 CITS 檔案\")\n",
    "\n",
    "print(f\"🔍 載入 CITS 檔案: {CITS_FILE_KEY}\")\n",
    "try:\n",
    "    cits_file = session[CITS_FILE_KEY]\n",
    "    cits_data = cits_file.data\n",
    "    \n",
    "    print(f\"✅ CITS 數據載入成功\")\n",
    "    print(f\"📊 數據形狀: {cits_data.shape}\")\n",
    "    print(f\"⚡ 偏壓範圍: {cits_data.bias_range[0]:.3f}V 到 {cits_data.bias_range[1]:.3f}V\")\n",
    "    print(f\"🔢 偏壓點數: {cits_data.n_bias_points}\")\n",
    "    print(f\"📐 網格大小: {cits_data.grid_size}\")\n",
    "    \n",
    "    # 準備用於分析函數的數據格式 / Prepare data format for analysis functions\n",
    "    cits_data_dict = {\n",
    "        'data_3d': cits_data.data_3d,\n",
    "        'bias_values': cits_data.bias_values,\n",
    "        'grid_size': cits_data.grid_size,\n",
    "        'measurement_mode': 'CITS',\n",
    "        'x_range': cits_data.x_range,\n",
    "        'y_range': cits_data.y_range\n",
    "    }\n",
    "    \n",
    "except Exception as e:\n",
    "    print(f\"❌ CITS 數據載入失敗: {e}\")\n",
    "    raise"
   ]
  },
  {
   "cell_type": "markdown",
   "metadata": {},
   "source": [
    "## 2. CITS 偏壓切片顯示 / CITS Bias Slice Display\n",
    "\n",
    "使用函式庫函數顯示特定偏壓的 CITS 切片  \n",
    "Using library functions to display CITS slice at specific bias"
   ]
  },
  {
   "cell_type": "code",
   "execution_count": 5,
   "metadata": {},
   "outputs": [
    {
     "name": "stdout",
     "output_type": "stream",
     "text": [
      "🔪 提取偏壓切片，索引: 50\n",
      "✅ 切片提取成功\n",
      "⚡ 偏壓值: -1275.000V\n",
      "📊 切片形狀: (100, 100)\n"
     ]
    }
   ],
   "source": [
    "# 提取偏壓切片數據 / Extract bias slice data\n",
    "print(f\"🔪 提取偏壓切片，索引: {BIAS_INDEX}\")\n",
    "try:\n",
    "    bias_slice_info = extract_cits_bias_slice(cits_data_dict, BIAS_INDEX)\n",
    "    \n",
    "    print(f\"✅ 切片提取成功\")\n",
    "    print(f\"⚡ 偏壓值: {bias_slice_info['bias_value']:.3f}V\")\n",
    "    print(f\"📊 切片形狀: {bias_slice_info['slice_data'].shape}\")\n",
    "    \n",
    "except Exception as e:\n",
    "    print(f\"❌ 偏壓切片提取失敗: {e}\")\n",
    "    raise"
   ]
  },
  {
   "cell_type": "code",
   "execution_count": 6,
   "metadata": {},
   "outputs": [
    {
     "name": "stdout",
     "output_type": "stream",
     "text": [
      "🎨 繪製 CITS 偏壓切片...\n"
     ]
    },
    {
     "data": {
      "application/vnd.plotly.v1+json": {
       "config": {
        "plotlyServerURL": "https://plot.ly"
       },
       "data": [
        {
         "colorbar": {
          "title": {
           "text": "Current (A)"
          }
         },
         "colorscale": [
          [
           0,
           "#440154"
          ],
          [
           0.1111111111111111,
           "#482878"
          ],
          [
           0.2222222222222222,
           "#3e4989"
          ],
          [
           0.3333333333333333,
           "#31688e"
          ],
          [
           0.4444444444444444,
           "#26828e"
          ],
          [
           0.5555555555555556,
           "#1f9e89"
          ],
          [
           0.6666666666666666,
           "#35b779"
          ],
          [
           0.7777777777777778,
           "#6ece58"
          ],
          [
           0.8888888888888888,
           "#b5de2b"
          ],
          [
           1,
           "#fde725"
          ]
         ],
         "hovertemplate": "X: %{x}<br>Y: %{y}<br>Current: %{z:.2e} A<extra></extra>",
         "showscale": true,
         "type": "heatmap",
         "z": {
          "bdata": "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",
          "dtype": "f8",
          "shape": "100, 100"
         }
        }
       ],
       "layout": {
        "height": 700,
        "template": {
         "data": {
          "bar": [
           {
            "error_x": {
             "color": "#2a3f5f"
            },
            "error_y": {
             "color": "#2a3f5f"
            },
            "marker": {
             "line": {
              "color": "white",
              "width": 0.5
             },
             "pattern": {
              "fillmode": "overlay",
              "size": 10,
              "solidity": 0.2
             }
            },
            "type": "bar"
           }
          ],
          "barpolar": [
           {
            "marker": {
             "line": {
              "color": "white",
              "width": 0.5
             },
             "pattern": {
              "fillmode": "overlay",
              "size": 10,
              "solidity": 0.2
             }
            },
            "type": "barpolar"
           }
          ],
          "carpet": [
           {
            "aaxis": {
             "endlinecolor": "#2a3f5f",
             "gridcolor": "#C8D4E3",
             "linecolor": "#C8D4E3",
             "minorgridcolor": "#C8D4E3",
             "startlinecolor": "#2a3f5f"
            },
            "baxis": {
             "endlinecolor": "#2a3f5f",
             "gridcolor": "#C8D4E3",
             "linecolor": "#C8D4E3",
             "minorgridcolor": "#C8D4E3",
             "startlinecolor": "#2a3f5f"
            },
            "type": "carpet"
           }
          ],
          "choropleth": [
           {
            "colorbar": {
             "outlinewidth": 0,
             "ticks": ""
            },
            "type": "choropleth"
           }
          ],
          "contour": [
           {
            "colorbar": {
             "outlinewidth": 0,
             "ticks": ""
            },
            "colorscale": [
             [
              0,
              "#0d0887"
             ],
             [
              0.1111111111111111,
              "#46039f"
             ],
             [
              0.2222222222222222,
              "#7201a8"
             ],
             [
              0.3333333333333333,
              "#9c179e"
             ],
             [
              0.4444444444444444,
              "#bd3786"
             ],
             [
              0.5555555555555556,
              "#d8576b"
             ],
             [
              0.6666666666666666,
              "#ed7953"
             ],
             [
              0.7777777777777778,
              "#fb9f3a"
             ],
             [
              0.8888888888888888,
              "#fdca26"
             ],
             [
              1,
              "#f0f921"
             ]
            ],
            "type": "contour"
           }
          ],
          "contourcarpet": [
           {
            "colorbar": {
             "outlinewidth": 0,
             "ticks": ""
            },
            "type": "contourcarpet"
           }
          ],
          "heatmap": [
           {
            "colorbar": {
             "outlinewidth": 0,
             "ticks": ""
            },
            "colorscale": [
             [
              0,
              "#0d0887"
             ],
             [
              0.1111111111111111,
              "#46039f"
             ],
             [
              0.2222222222222222,
              "#7201a8"
             ],
             [
              0.3333333333333333,
              "#9c179e"
             ],
             [
              0.4444444444444444,
              "#bd3786"
             ],
             [
              0.5555555555555556,
              "#d8576b"
             ],
             [
              0.6666666666666666,
              "#ed7953"
             ],
             [
              0.7777777777777778,
              "#fb9f3a"
             ],
             [
              0.8888888888888888,
              "#fdca26"
             ],
             [
              1,
              "#f0f921"
             ]
            ],
            "type": "heatmap"
           }
          ],
          "histogram": [
           {
            "marker": {
             "pattern": {
              "fillmode": "overlay",
              "size": 10,
              "solidity": 0.2
             }
            },
            "type": "histogram"
           }
          ],
          "histogram2d": [
           {
            "colorbar": {
             "outlinewidth": 0,
             "ticks": ""
            },
            "colorscale": [
             [
              0,
              "#0d0887"
             ],
             [
              0.1111111111111111,
              "#46039f"
             ],
             [
              0.2222222222222222,
              "#7201a8"
             ],
             [
              0.3333333333333333,
              "#9c179e"
             ],
             [
              0.4444444444444444,
              "#bd3786"
             ],
             [
              0.5555555555555556,
              "#d8576b"
             ],
             [
              0.6666666666666666,
              "#ed7953"
             ],
             [
              0.7777777777777778,
              "#fb9f3a"
             ],
             [
              0.8888888888888888,
              "#fdca26"
             ],
             [
              1,
              "#f0f921"
             ]
            ],
            "type": "histogram2d"
           }
          ],
          "histogram2dcontour": [
           {
            "colorbar": {
             "outlinewidth": 0,
             "ticks": ""
            },
            "colorscale": [
             [
              0,
              "#0d0887"
             ],
             [
              0.1111111111111111,
              "#46039f"
             ],
             [
              0.2222222222222222,
              "#7201a8"
             ],
             [
              0.3333333333333333,
              "#9c179e"
             ],
             [
              0.4444444444444444,
              "#bd3786"
             ],
             [
              0.5555555555555556,
              "#d8576b"
             ],
             [
              0.6666666666666666,
              "#ed7953"
             ],
             [
              0.7777777777777778,
              "#fb9f3a"
             ],
             [
              0.8888888888888888,
              "#fdca26"
             ],
             [
              1,
              "#f0f921"
             ]
            ],
            "type": "histogram2dcontour"
           }
          ],
          "mesh3d": [
           {
            "colorbar": {
             "outlinewidth": 0,
             "ticks": ""
            },
            "type": "mesh3d"
           }
          ],
          "parcoords": [
           {
            "line": {
             "colorbar": {
              "outlinewidth": 0,
              "ticks": ""
             }
            },
            "type": "parcoords"
           }
          ],
          "pie": [
           {
            "automargin": true,
            "type": "pie"
           }
          ],
          "scatter": [
           {
            "fillpattern": {
             "fillmode": "overlay",
             "size": 10,
             "solidity": 0.2
            },
            "type": "scatter"
           }
          ],
          "scatter3d": [
           {
            "line": {
             "colorbar": {
              "outlinewidth": 0,
              "ticks": ""
             }
            },
            "marker": {
             "colorbar": {
              "outlinewidth": 0,
              "ticks": ""
             }
            },
            "type": "scatter3d"
           }
          ],
          "scattercarpet": [
           {
            "marker": {
             "colorbar": {
              "outlinewidth": 0,
              "ticks": ""
             }
            },
            "type": "scattercarpet"
           }
          ],
          "scattergeo": [
           {
            "marker": {
             "colorbar": {
              "outlinewidth": 0,
              "ticks": ""
             }
            },
            "type": "scattergeo"
           }
          ],
          "scattergl": [
           {
            "marker": {
             "colorbar": {
              "outlinewidth": 0,
              "ticks": ""
             }
            },
            "type": "scattergl"
           }
          ],
          "scattermap": [
           {
            "marker": {
             "colorbar": {
              "outlinewidth": 0,
              "ticks": ""
             }
            },
            "type": "scattermap"
           }
          ],
          "scattermapbox": [
           {
            "marker": {
             "colorbar": {
              "outlinewidth": 0,
              "ticks": ""
             }
            },
            "type": "scattermapbox"
           }
          ],
          "scatterpolar": [
           {
            "marker": {
             "colorbar": {
              "outlinewidth": 0,
              "ticks": ""
             }
            },
            "type": "scatterpolar"
           }
          ],
          "scatterpolargl": [
           {
            "marker": {
             "colorbar": {
              "outlinewidth": 0,
              "ticks": ""
             }
            },
            "type": "scatterpolargl"
           }
          ],
          "scatterternary": [
           {
            "marker": {
             "colorbar": {
              "outlinewidth": 0,
              "ticks": ""
             }
            },
            "type": "scatterternary"
           }
          ],
          "surface": [
           {
            "colorbar": {
             "outlinewidth": 0,
             "ticks": ""
            },
            "colorscale": [
             [
              0,
              "#0d0887"
             ],
             [
              0.1111111111111111,
              "#46039f"
             ],
             [
              0.2222222222222222,
              "#7201a8"
             ],
             [
              0.3333333333333333,
              "#9c179e"
             ],
             [
              0.4444444444444444,
              "#bd3786"
             ],
             [
              0.5555555555555556,
              "#d8576b"
             ],
             [
              0.6666666666666666,
              "#ed7953"
             ],
             [
              0.7777777777777778,
              "#fb9f3a"
             ],
             [
              0.8888888888888888,
              "#fdca26"
             ],
             [
              1,
              "#f0f921"
             ]
            ],
            "type": "surface"
           }
          ],
          "table": [
           {
            "cells": {
             "fill": {
              "color": "#EBF0F8"
             },
             "line": {
              "color": "white"
             }
            },
            "header": {
             "fill": {
              "color": "#C8D4E3"
             },
             "line": {
              "color": "white"
             }
            },
            "type": "table"
           }
          ]
         },
         "layout": {
          "annotationdefaults": {
           "arrowcolor": "#2a3f5f",
           "arrowhead": 0,
           "arrowwidth": 1
          },
          "autotypenumbers": "strict",
          "coloraxis": {
           "colorbar": {
            "outlinewidth": 0,
            "ticks": ""
           }
          },
          "colorscale": {
           "diverging": [
            [
             0,
             "#8e0152"
            ],
            [
             0.1,
             "#c51b7d"
            ],
            [
             0.2,
             "#de77ae"
            ],
            [
             0.3,
             "#f1b6da"
            ],
            [
             0.4,
             "#fde0ef"
            ],
            [
             0.5,
             "#f7f7f7"
            ],
            [
             0.6,
             "#e6f5d0"
            ],
            [
             0.7,
             "#b8e186"
            ],
            [
             0.8,
             "#7fbc41"
            ],
            [
             0.9,
             "#4d9221"
            ],
            [
             1,
             "#276419"
            ]
           ],
           "sequential": [
            [
             0,
             "#0d0887"
            ],
            [
             0.1111111111111111,
             "#46039f"
            ],
            [
             0.2222222222222222,
             "#7201a8"
            ],
            [
             0.3333333333333333,
             "#9c179e"
            ],
            [
             0.4444444444444444,
             "#bd3786"
            ],
            [
             0.5555555555555556,
             "#d8576b"
            ],
            [
             0.6666666666666666,
             "#ed7953"
            ],
            [
             0.7777777777777778,
             "#fb9f3a"
            ],
            [
             0.8888888888888888,
             "#fdca26"
            ],
            [
             1,
             "#f0f921"
            ]
           ],
           "sequentialminus": [
            [
             0,
             "#0d0887"
            ],
            [
             0.1111111111111111,
             "#46039f"
            ],
            [
             0.2222222222222222,
             "#7201a8"
            ],
            [
             0.3333333333333333,
             "#9c179e"
            ],
            [
             0.4444444444444444,
             "#bd3786"
            ],
            [
             0.5555555555555556,
             "#d8576b"
            ],
            [
             0.6666666666666666,
             "#ed7953"
            ],
            [
             0.7777777777777778,
             "#fb9f3a"
            ],
            [
             0.8888888888888888,
             "#fdca26"
            ],
            [
             1,
             "#f0f921"
            ]
           ]
          },
          "colorway": [
           "#636efa",
           "#EF553B",
           "#00cc96",
           "#ab63fa",
           "#FFA15A",
           "#19d3f3",
           "#FF6692",
           "#B6E880",
           "#FF97FF",
           "#FECB52"
          ],
          "font": {
           "color": "#2a3f5f"
          },
          "geo": {
           "bgcolor": "white",
           "lakecolor": "white",
           "landcolor": "white",
           "showlakes": true,
           "showland": true,
           "subunitcolor": "#C8D4E3"
          },
          "hoverlabel": {
           "align": "left"
          },
          "hovermode": "closest",
          "mapbox": {
           "style": "light"
          },
          "paper_bgcolor": "white",
          "plot_bgcolor": "white",
          "polar": {
           "angularaxis": {
            "gridcolor": "#EBF0F8",
            "linecolor": "#EBF0F8",
            "ticks": ""
           },
           "bgcolor": "white",
           "radialaxis": {
            "gridcolor": "#EBF0F8",
            "linecolor": "#EBF0F8",
            "ticks": ""
           }
          },
          "scene": {
           "xaxis": {
            "backgroundcolor": "white",
            "gridcolor": "#DFE8F3",
            "gridwidth": 2,
            "linecolor": "#EBF0F8",
            "showbackground": true,
            "ticks": "",
            "zerolinecolor": "#EBF0F8"
           },
           "yaxis": {
            "backgroundcolor": "white",
            "gridcolor": "#DFE8F3",
            "gridwidth": 2,
            "linecolor": "#EBF0F8",
            "showbackground": true,
            "ticks": "",
            "zerolinecolor": "#EBF0F8"
           },
           "zaxis": {
            "backgroundcolor": "white",
            "gridcolor": "#DFE8F3",
            "gridwidth": 2,
            "linecolor": "#EBF0F8",
            "showbackground": true,
            "ticks": "",
            "zerolinecolor": "#EBF0F8"
           }
          },
          "shapedefaults": {
           "line": {
            "color": "#2a3f5f"
           }
          },
          "ternary": {
           "aaxis": {
            "gridcolor": "#DFE8F3",
            "linecolor": "#A2B1C6",
            "ticks": ""
           },
           "baxis": {
            "gridcolor": "#DFE8F3",
            "linecolor": "#A2B1C6",
            "ticks": ""
           },
           "bgcolor": "white",
           "caxis": {
            "gridcolor": "#DFE8F3",
            "linecolor": "#A2B1C6",
            "ticks": ""
           }
          },
          "title": {
           "x": 0.05
          },
          "xaxis": {
           "automargin": true,
           "gridcolor": "#EBF0F8",
           "linecolor": "#EBF0F8",
           "ticks": "",
           "title": {
            "standoff": 15
           },
           "zerolinecolor": "#EBF0F8",
           "zerolinewidth": 2
          },
          "yaxis": {
           "automargin": true,
           "gridcolor": "#EBF0F8",
           "linecolor": "#EBF0F8",
           "ticks": "",
           "title": {
            "standoff": 15
           },
           "zerolinecolor": "#EBF0F8",
           "zerolinewidth": 2
          }
         }
        },
        "title": {
         "text": "CITS 偏壓切片 @ -1275.000V"
        },
        "width": 700,
        "xaxis": {
         "title": {
          "text": "X Position (pixel)"
         }
        },
        "yaxis": {
         "scaleanchor": "x",
         "scaleratio": 1,
         "title": {
          "text": "Y Position (pixel)"
         }
        }
       }
      }
     },
     "metadata": {},
     "output_type": "display_data"
    },
    {
     "name": "stdout",
     "output_type": "stream",
     "text": [
      "✅ 偏壓切片繪製完成\n"
     ]
    }
   ],
   "source": [
    "# 繪製偏壓切片 / Plot bias slice\n",
    "print(\"🎨 繪製 CITS 偏壓切片...\")\n",
    "try:\n",
    "    fig_bias_slice = SpectroscopyPlotting.plot_cits_bias_slice(\n",
    "        data_3d=cits_data_dict['data_3d'],\n",
    "        bias_values=cits_data_dict['bias_values'],\n",
    "        bias_index=BIAS_INDEX,\n",
    "        title=f\"CITS 偏壓切片 @ {bias_slice_info['bias_value']:.3f}V\",\n",
    "        colorscale='Viridis',\n",
    "        width=700,\n",
    "        height=700\n",
    "    )\n",
    "    \n",
    "    fig_bias_slice.show()\n",
    "    print(\"✅ 偏壓切片繪製完成\")\n",
    "    \n",
    "except Exception as e:\n",
    "    print(f\"❌ 偏壓切片繪製失敗: {e}\")\n",
    "    raise"
   ]
  },
  {
   "cell_type": "markdown",
   "metadata": {},
   "source": [
    "## 3. 線剖面能帶圖 / Line Profile Band Diagram\n",
    "\n",
    "提取線剖面光譜數據並繪製能帶圖  \n",
    "Extract line profile spectra data and plot band diagram"
   ]
  },
  {
   "cell_type": "code",
   "execution_count": 7,
   "metadata": {},
   "outputs": [
    {
     "name": "stdout",
     "output_type": "stream",
     "text": [
      "📏 提取線剖面: (10, 10) → (50, 50)\n",
      "✅ 線剖面提取成功\n",
      "📊 光譜數據形狀: (201, 41)\n",
      "📐 物理長度: 56.57\n",
      "🔢 採樣點數: 41\n"
     ]
    }
   ],
   "source": [
    "# 提取線剖面光譜數據 / Extract line profile spectra data\n",
    "print(f\"📏 提取線剖面: {LINE_START} → {LINE_END}\")\n",
    "try:\n",
    "    line_data = extract_line_spectra_data(\n",
    "        cits_data_dict, \n",
    "        LINE_START, \n",
    "        LINE_END, \n",
    "        sampling_method='bresenham'\n",
    "    )\n",
    "    \n",
    "    print(f\"✅ 線剖面提取成功\")\n",
    "    print(f\"📊 光譜數據形狀: {line_data['line_spectra'].shape}\")\n",
    "    print(f\"📐 物理長度: {line_data['physical_length']:.2f}\")\n",
    "    print(f\"🔢 採樣點數: {line_data['n_points']}\")\n",
    "    \n",
    "except Exception as e:\n",
    "    print(f\"❌ 線剖面提取失敗: {e}\")\n",
    "    raise"
   ]
  },
  {
   "cell_type": "code",
   "execution_count": 8,
   "metadata": {},
   "outputs": [
    {
     "name": "stdout",
     "output_type": "stream",
     "text": [
      "🎨 繪製能帶圖...\n"
     ]
    },
    {
     "data": {
      "application/vnd.plotly.v1+json": {
       "config": {
        "plotlyServerURL": "https://plot.ly"
       },
       "data": [
        {
         "colorbar": {
          "title": {
           "side": "right",
           "text": "|Current| (A)"
          }
         },
         "colorscale": [
          [
           0,
           "#440154"
          ],
          [
           0.1111111111111111,
           "#482878"
          ],
          [
           0.2222222222222222,
           "#3e4989"
          ],
          [
           0.3333333333333333,
           "#31688e"
          ],
          [
           0.4444444444444444,
           "#26828e"
          ],
          [
           0.5555555555555556,
           "#1f9e89"
          ],
          [
           0.6666666666666666,
           "#35b779"
          ],
          [
           0.7777777777777778,
           "#6ece58"
          ],
          [
           0.8888888888888888,
           "#b5de2b"
          ],
          [
           1,
           "#fde725"
          ]
         ],
         "hovertemplate": "Position: %{x}<br>Bias: %{y:.3f} V<br>Intensity: %{z:.2e}<extra></extra>",
         "showscale": true,
         "type": "heatmap",
         "x": {
          "bdata": "AAECAwQFBgcICQoLDA0ODxAREhMUFRYXGBkaGxwdHh8gISIjJCUmJyg=",
          "dtype": "i1"
         },
         "y": {
          "bdata": "AAAAAAAEoMAAAAAAAMqfwAAAAAAAjJ/AAAAAAABOn8AAAAAAABCfwAAAAAAA0p7AAAAAAACUnsAAAAAAAFaewAAAAAAAGJ7AAAAAAADancAAAAAAAJydwAAAAAAAXp3AAAAAAAAgncAAAAAAAOKcwAAAAAAApJzAAAAAAABmnMAAAAAAACicwAAAAAAA6pvAAAAAAACsm8AAAAAAAG6bwAAAAAAAMJvAAAAAAADymsAAAAAAALSawAAAAAAAdprAAAAAAAA4msAAAAAAAPqZwAAAAAAAvJnAAAAAAAB+mcAAAAAAAECZwAAAAAAAApnAAAAAAADEmMAAAAAAAIaYwAAAAAAASJjAAAAAAAAKmMAAAAAAAMyXwAAAAAAAjpfAAAAAAABQl8AAAAAAABKXwAAAAAAA1JbAAAAAAACWlsAAAAAAAFiWwAAAAAAAGpbAAAAAAADclcAAAAAAAJ6VwAAAAAAAYJXAAAAAAAAilcAAAAAAAOSUwAAAAAAAppTAAAAAAABolMAAAAAAACqUwAAAAAAA7JPAAAAAAACuk8AAAAAAAHCTwAAAAAAAMpPAAAAAAAD0ksAAAAAAALaSwAAAAAAAeJLAAAAAAAA6ksAAAAAAAPyRwAAAAAAAvpHAAAAAAACAkcAAAAAAAEKRwAAAAAAABJHAAAAAAADGkMAAAAAAAIiQwAAAAAAASpDAAAAAAAAMkMAAAAAAAJyPwAAAAAAAII/AAAAAAACkjsAAAAAAACiOwAAAAAAArI3AAAAAAAAwjcAAAAAAALSMwAAAAAAAOIzAAAAAAAC8i8AAAAAAAECLwAAAAAAAxIrAAAAAAABIisAAAAAAAMyJwAAAAAAAUInAAAAAAADUiMAAAAAAAFiIwAAAAAAA3IfAAAAAAABgh8AAAAAAAOSGwAAAAAAAaIbAAAAAAADshcAAAAAAAHCFwAAAAAAA9ITAAAAAAAB4hMAAAAAAAPyDwAAAAAAAgIPAAAAAAAAEg8AAAAAAAIiCwAAAAAAADILAAAAAAACQgcAAAAAAABSBwAAAAAAAmIDAAAAAAAAcgMAAAAAAAEB/wAAAAAAASH7AAAAAAABQfcAAAAAAAFh8wAAAAAAAYHvAAAAAAABoesAAAAAAAHB5wAAAAAAAeHjAAAAAAACAd8AAAAAAAIh2wAAAAAAAkHXAAAAAAACYdMAAAAAAAKBzwAAAAAAAqHLAAAAAAACwccAAAAAAALhwwAAAAAAAgG/AAAAAAACQbcAAAAAAAKBrwAAAAAAAsGnAAAAAAADAZ8AAAAAAANBlwAAAAAAA4GPAAAAAAADwYcAAAAAAAABgwAAAAAAAIFzAsi5uowFAWMAAAAAAAGBUwLIubqMBgFDAZF3cRgNAScAAAAAAAIBBwAAAAAAAgDPAADrMlxcAEMByio7k8v8mQAAAAAAAADtAnKIjufw/RUCcoiO5/P9MQAAAAAAAYFJATtGRXP4/VkAAAAAAACBaQAAAAAAAAF5AAAAAAADwYEAAAAAAAOBiQAAAAAAA0GRAAAAAAADAZkAAAAAAALBoQAAAAAAAoGpAAAAAAACQbEAAAAAAAIBuQAAAAAAAOHBAAAAAAAAwcUAAAAAAAChyQAAAAAAAIHNAAAAAAAAYdEAAAAAAABB1QAAAAAAACHZAAAAAAAAAd0AAAAAAAPh3QAAAAAAA8HhAAAAAAADoeUAAAAAAAOB6QAAAAAAA2HtAAAAAAADQfEAAAAAAAMh9QAAAAAAAwH5AAAAAAAC4f0AAAAAAAFiAQAAAAAAA1IBAAAAAAABQgUAAAAAAAMyBQAAAAAAASIJAAAAAAADEgkAAAAAAAECDQAAAAAAAvINAAAAAAAA4hEAAAAAAALSEQAAAAAAAMIVAAAAAAACshUAAAAAAACiGQAAAAAAApIZAAAAAAAAgh0AAAAAAAJyHQAAAAAAAGIhAAAAAAACUiEAAAAAAABCJQAAAAAAAjIlAAAAAAAAIikAAAAAAAISKQAAAAAAAAItAAAAAAAB8i0AAAAAAAPiLQAAAAAAAdIxAAAAAAADwjEAAAAAAAGyNQAAAAAAA6I1AAAAAAABkjkAAAAAAAOCOQAAAAAAAXI9AAAAAAADYj0AAAAAAACqQQAAAAAAAaJBA",
          "dtype": "f8"
         },
         "z": {
          "bdata": "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",
          "dtype": "f8",
          "shape": "201, 41"
         },
         "zsmooth": "best"
        }
       ],
       "layout": {
        "height": 600,
        "template": {
         "data": {
          "bar": [
           {
            "error_x": {
             "color": "#2a3f5f"
            },
            "error_y": {
             "color": "#2a3f5f"
            },
            "marker": {
             "line": {
              "color": "white",
              "width": 0.5
             },
             "pattern": {
              "fillmode": "overlay",
              "size": 10,
              "solidity": 0.2
             }
            },
            "type": "bar"
           }
          ],
          "barpolar": [
           {
            "marker": {
             "line": {
              "color": "white",
              "width": 0.5
             },
             "pattern": {
              "fillmode": "overlay",
              "size": 10,
              "solidity": 0.2
             }
            },
            "type": "barpolar"
           }
          ],
          "carpet": [
           {
            "aaxis": {
             "endlinecolor": "#2a3f5f",
             "gridcolor": "#C8D4E3",
             "linecolor": "#C8D4E3",
             "minorgridcolor": "#C8D4E3",
             "startlinecolor": "#2a3f5f"
            },
            "baxis": {
             "endlinecolor": "#2a3f5f",
             "gridcolor": "#C8D4E3",
             "linecolor": "#C8D4E3",
             "minorgridcolor": "#C8D4E3",
             "startlinecolor": "#2a3f5f"
            },
            "type": "carpet"
           }
          ],
          "choropleth": [
           {
            "colorbar": {
             "outlinewidth": 0,
             "ticks": ""
            },
            "type": "choropleth"
           }
          ],
          "contour": [
           {
            "colorbar": {
             "outlinewidth": 0,
             "ticks": ""
            },
            "colorscale": [
             [
              0,
              "#0d0887"
             ],
             [
              0.1111111111111111,
              "#46039f"
             ],
             [
              0.2222222222222222,
              "#7201a8"
             ],
             [
              0.3333333333333333,
              "#9c179e"
             ],
             [
              0.4444444444444444,
              "#bd3786"
             ],
             [
              0.5555555555555556,
              "#d8576b"
             ],
             [
              0.6666666666666666,
              "#ed7953"
             ],
             [
              0.7777777777777778,
              "#fb9f3a"
             ],
             [
              0.8888888888888888,
              "#fdca26"
             ],
             [
              1,
              "#f0f921"
             ]
            ],
            "type": "contour"
           }
          ],
          "contourcarpet": [
           {
            "colorbar": {
             "outlinewidth": 0,
             "ticks": ""
            },
            "type": "contourcarpet"
           }
          ],
          "heatmap": [
           {
            "colorbar": {
             "outlinewidth": 0,
             "ticks": ""
            },
            "colorscale": [
             [
              0,
              "#0d0887"
             ],
             [
              0.1111111111111111,
              "#46039f"
             ],
             [
              0.2222222222222222,
              "#7201a8"
             ],
             [
              0.3333333333333333,
              "#9c179e"
             ],
             [
              0.4444444444444444,
              "#bd3786"
             ],
             [
              0.5555555555555556,
              "#d8576b"
             ],
             [
              0.6666666666666666,
              "#ed7953"
             ],
             [
              0.7777777777777778,
              "#fb9f3a"
             ],
             [
              0.8888888888888888,
              "#fdca26"
             ],
             [
              1,
              "#f0f921"
             ]
            ],
            "type": "heatmap"
           }
          ],
          "histogram": [
           {
            "marker": {
             "pattern": {
              "fillmode": "overlay",
              "size": 10,
              "solidity": 0.2
             }
            },
            "type": "histogram"
           }
          ],
          "histogram2d": [
           {
            "colorbar": {
             "outlinewidth": 0,
             "ticks": ""
            },
            "colorscale": [
             [
              0,
              "#0d0887"
             ],
             [
              0.1111111111111111,
              "#46039f"
             ],
             [
              0.2222222222222222,
              "#7201a8"
             ],
             [
              0.3333333333333333,
              "#9c179e"
             ],
             [
              0.4444444444444444,
              "#bd3786"
             ],
             [
              0.5555555555555556,
              "#d8576b"
             ],
             [
              0.6666666666666666,
              "#ed7953"
             ],
             [
              0.7777777777777778,
              "#fb9f3a"
             ],
             [
              0.8888888888888888,
              "#fdca26"
             ],
             [
              1,
              "#f0f921"
             ]
            ],
            "type": "histogram2d"
           }
          ],
          "histogram2dcontour": [
           {
            "colorbar": {
             "outlinewidth": 0,
             "ticks": ""
            },
            "colorscale": [
             [
              0,
              "#0d0887"
             ],
             [
              0.1111111111111111,
              "#46039f"
             ],
             [
              0.2222222222222222,
              "#7201a8"
             ],
             [
              0.3333333333333333,
              "#9c179e"
             ],
             [
              0.4444444444444444,
              "#bd3786"
             ],
             [
              0.5555555555555556,
              "#d8576b"
             ],
             [
              0.6666666666666666,
              "#ed7953"
             ],
             [
              0.7777777777777778,
              "#fb9f3a"
             ],
             [
              0.8888888888888888,
              "#fdca26"
             ],
             [
              1,
              "#f0f921"
             ]
            ],
            "type": "histogram2dcontour"
           }
          ],
          "mesh3d": [
           {
            "colorbar": {
             "outlinewidth": 0,
             "ticks": ""
            },
            "type": "mesh3d"
           }
          ],
          "parcoords": [
           {
            "line": {
             "colorbar": {
              "outlinewidth": 0,
              "ticks": ""
             }
            },
            "type": "parcoords"
           }
          ],
          "pie": [
           {
            "automargin": true,
            "type": "pie"
           }
          ],
          "scatter": [
           {
            "fillpattern": {
             "fillmode": "overlay",
             "size": 10,
             "solidity": 0.2
            },
            "type": "scatter"
           }
          ],
          "scatter3d": [
           {
            "line": {
             "colorbar": {
              "outlinewidth": 0,
              "ticks": ""
             }
            },
            "marker": {
             "colorbar": {
              "outlinewidth": 0,
              "ticks": ""
             }
            },
            "type": "scatter3d"
           }
          ],
          "scattercarpet": [
           {
            "marker": {
             "colorbar": {
              "outlinewidth": 0,
              "ticks": ""
             }
            },
            "type": "scattercarpet"
           }
          ],
          "scattergeo": [
           {
            "marker": {
             "colorbar": {
              "outlinewidth": 0,
              "ticks": ""
             }
            },
            "type": "scattergeo"
           }
          ],
          "scattergl": [
           {
            "marker": {
             "colorbar": {
              "outlinewidth": 0,
              "ticks": ""
             }
            },
            "type": "scattergl"
           }
          ],
          "scattermap": [
           {
            "marker": {
             "colorbar": {
              "outlinewidth": 0,
              "ticks": ""
             }
            },
            "type": "scattermap"
           }
          ],
          "scattermapbox": [
           {
            "marker": {
             "colorbar": {
              "outlinewidth": 0,
              "ticks": ""
             }
            },
            "type": "scattermapbox"
           }
          ],
          "scatterpolar": [
           {
            "marker": {
             "colorbar": {
              "outlinewidth": 0,
              "ticks": ""
             }
            },
            "type": "scatterpolar"
           }
          ],
          "scatterpolargl": [
           {
            "marker": {
             "colorbar": {
              "outlinewidth": 0,
              "ticks": ""
             }
            },
            "type": "scatterpolargl"
           }
          ],
          "scatterternary": [
           {
            "marker": {
             "colorbar": {
              "outlinewidth": 0,
              "ticks": ""
             }
            },
            "type": "scatterternary"
           }
          ],
          "surface": [
           {
            "colorbar": {
             "outlinewidth": 0,
             "ticks": ""
            },
            "colorscale": [
             [
              0,
              "#0d0887"
             ],
             [
              0.1111111111111111,
              "#46039f"
             ],
             [
              0.2222222222222222,
              "#7201a8"
             ],
             [
              0.3333333333333333,
              "#9c179e"
             ],
             [
              0.4444444444444444,
              "#bd3786"
             ],
             [
              0.5555555555555556,
              "#d8576b"
             ],
             [
              0.6666666666666666,
              "#ed7953"
             ],
             [
              0.7777777777777778,
              "#fb9f3a"
             ],
             [
              0.8888888888888888,
              "#fdca26"
             ],
             [
              1,
              "#f0f921"
             ]
            ],
            "type": "surface"
           }
          ],
          "table": [
           {
            "cells": {
             "fill": {
              "color": "#EBF0F8"
             },
             "line": {
              "color": "white"
             }
            },
            "header": {
             "fill": {
              "color": "#C8D4E3"
             },
             "line": {
              "color": "white"
             }
            },
            "type": "table"
           }
          ]
         },
         "layout": {
          "annotationdefaults": {
           "arrowcolor": "#2a3f5f",
           "arrowhead": 0,
           "arrowwidth": 1
          },
          "autotypenumbers": "strict",
          "coloraxis": {
           "colorbar": {
            "outlinewidth": 0,
            "ticks": ""
           }
          },
          "colorscale": {
           "diverging": [
            [
             0,
             "#8e0152"
            ],
            [
             0.1,
             "#c51b7d"
            ],
            [
             0.2,
             "#de77ae"
            ],
            [
             0.3,
             "#f1b6da"
            ],
            [
             0.4,
             "#fde0ef"
            ],
            [
             0.5,
             "#f7f7f7"
            ],
            [
             0.6,
             "#e6f5d0"
            ],
            [
             0.7,
             "#b8e186"
            ],
            [
             0.8,
             "#7fbc41"
            ],
            [
             0.9,
             "#4d9221"
            ],
            [
             1,
             "#276419"
            ]
           ],
           "sequential": [
            [
             0,
             "#0d0887"
            ],
            [
             0.1111111111111111,
             "#46039f"
            ],
            [
             0.2222222222222222,
             "#7201a8"
            ],
            [
             0.3333333333333333,
             "#9c179e"
            ],
            [
             0.4444444444444444,
             "#bd3786"
            ],
            [
             0.5555555555555556,
             "#d8576b"
            ],
            [
             0.6666666666666666,
             "#ed7953"
            ],
            [
             0.7777777777777778,
             "#fb9f3a"
            ],
            [
             0.8888888888888888,
             "#fdca26"
            ],
            [
             1,
             "#f0f921"
            ]
           ],
           "sequentialminus": [
            [
             0,
             "#0d0887"
            ],
            [
             0.1111111111111111,
             "#46039f"
            ],
            [
             0.2222222222222222,
             "#7201a8"
            ],
            [
             0.3333333333333333,
             "#9c179e"
            ],
            [
             0.4444444444444444,
             "#bd3786"
            ],
            [
             0.5555555555555556,
             "#d8576b"
            ],
            [
             0.6666666666666666,
             "#ed7953"
            ],
            [
             0.7777777777777778,
             "#fb9f3a"
            ],
            [
             0.8888888888888888,
             "#fdca26"
            ],
            [
             1,
             "#f0f921"
            ]
           ]
          },
          "colorway": [
           "#636efa",
           "#EF553B",
           "#00cc96",
           "#ab63fa",
           "#FFA15A",
           "#19d3f3",
           "#FF6692",
           "#B6E880",
           "#FF97FF",
           "#FECB52"
          ],
          "font": {
           "color": "#2a3f5f"
          },
          "geo": {
           "bgcolor": "white",
           "lakecolor": "white",
           "landcolor": "white",
           "showlakes": true,
           "showland": true,
           "subunitcolor": "#C8D4E3"
          },
          "hoverlabel": {
           "align": "left"
          },
          "hovermode": "closest",
          "mapbox": {
           "style": "light"
          },
          "paper_bgcolor": "white",
          "plot_bgcolor": "white",
          "polar": {
           "angularaxis": {
            "gridcolor": "#EBF0F8",
            "linecolor": "#EBF0F8",
            "ticks": ""
           },
           "bgcolor": "white",
           "radialaxis": {
            "gridcolor": "#EBF0F8",
            "linecolor": "#EBF0F8",
            "ticks": ""
           }
          },
          "scene": {
           "xaxis": {
            "backgroundcolor": "white",
            "gridcolor": "#DFE8F3",
            "gridwidth": 2,
            "linecolor": "#EBF0F8",
            "showbackground": true,
            "ticks": "",
            "zerolinecolor": "#EBF0F8"
           },
           "yaxis": {
            "backgroundcolor": "white",
            "gridcolor": "#DFE8F3",
            "gridwidth": 2,
            "linecolor": "#EBF0F8",
            "showbackground": true,
            "ticks": "",
            "zerolinecolor": "#EBF0F8"
           },
           "zaxis": {
            "backgroundcolor": "white",
            "gridcolor": "#DFE8F3",
            "gridwidth": 2,
            "linecolor": "#EBF0F8",
            "showbackground": true,
            "ticks": "",
            "zerolinecolor": "#EBF0F8"
           }
          },
          "shapedefaults": {
           "line": {
            "color": "#2a3f5f"
           }
          },
          "ternary": {
           "aaxis": {
            "gridcolor": "#DFE8F3",
            "linecolor": "#A2B1C6",
            "ticks": ""
           },
           "baxis": {
            "gridcolor": "#DFE8F3",
            "linecolor": "#A2B1C6",
            "ticks": ""
           },
           "bgcolor": "white",
           "caxis": {
            "gridcolor": "#DFE8F3",
            "linecolor": "#A2B1C6",
            "ticks": ""
           }
          },
          "title": {
           "x": 0.05
          },
          "xaxis": {
           "automargin": true,
           "gridcolor": "#EBF0F8",
           "linecolor": "#EBF0F8",
           "ticks": "",
           "title": {
            "standoff": 15
           },
           "zerolinecolor": "#EBF0F8",
           "zerolinewidth": 2
          },
          "yaxis": {
           "automargin": true,
           "gridcolor": "#EBF0F8",
           "linecolor": "#EBF0F8",
           "ticks": "",
           "title": {
            "standoff": 15
           },
           "zerolinecolor": "#EBF0F8",
           "zerolinewidth": 2
          }
         }
        },
        "title": {
         "text": "能帶圖 - 線剖面 (10, 10)→(50, 50) (Linear Scale)"
        },
        "width": 900,
        "xaxis": {
         "title": {
          "text": "Distance (pixel)"
         }
        },
        "yaxis": {
         "title": {
          "text": "Bias Voltage (V)"
         }
        }
       }
      }
     },
     "metadata": {},
     "output_type": "display_data"
    },
    {
     "name": "stdout",
     "output_type": "stream",
     "text": [
      "✅ 能帶圖繪製完成\n"
     ]
    }
   ],
   "source": [
    "# 繪製能帶圖 / Plot band diagram\n",
    "print(\"🎨 繪製能帶圖...\")\n",
    "try:\n",
    "    fig_band = SpectroscopyPlotting.plot_band_diagram(\n",
    "        line_spectra=line_data['line_spectra'],\n",
    "        bias_values=line_data['bias_values'],\n",
    "        distances=line_data['distances'],\n",
    "        title=f\"能帶圖 - 線剖面 {LINE_START}→{LINE_END}\",\n",
    "        use_log_scale=USE_LOG_SCALE,\n",
    "        colorscale='Viridis',\n",
    "        width=900,\n",
    "        height=600\n",
    "    )\n",
    "    \n",
    "    fig_band.show()\n",
    "    print(\"✅ 能帶圖繪製完成\")\n",
    "    \n",
    "except Exception as e:\n",
    "    print(f\"❌ 能帶圖繪製失敗: {e}\")\n",
    "    raise"
   ]
  },
  {
   "cell_type": "markdown",
   "metadata": {},
   "source": [
    "## 4. 堆疊光譜圖 / Stacked Spectra Plot\n",
    "\n",
    "顯示多條 STS 光譜曲線，帶垂直偏移  \n",
    "Display multiple STS spectra curves with vertical offset"
   ]
  },
  {
   "cell_type": "code",
   "execution_count": 9,
   "metadata": {},
   "outputs": [
    {
     "name": "stdout",
     "output_type": "stream",
     "text": [
      "📚 準備堆疊光譜數據，最大曲線數: 15\n",
      "✅ 堆疊數據準備完成\n",
      "📊 選定曲線數: 21 / 41\n",
      "🔢 選定位置: [0, 2, 4, 6, 8]...\n"
     ]
    }
   ],
   "source": [
    "# 準備堆疊光譜數據 / Prepare stacked spectra data\n",
    "print(f\"📚 準備堆疊光譜數據，最大曲線數: {MAX_CURVES}\")\n",
    "try:\n",
    "    stacked_data = prepare_stacked_spectra_data(\n",
    "        line_spectra=line_data['line_spectra'],\n",
    "        bias_values=line_data['bias_values'],\n",
    "        max_curves=MAX_CURVES,\n",
    "        step_selection='uniform'\n",
    "    )\n",
    "    \n",
    "    print(f\"✅ 堆疊數據準備完成\")\n",
    "    print(f\"📊 選定曲線數: {stacked_data['n_selected']} / {stacked_data['total_positions']}\")\n",
    "    print(f\"🔢 選定位置: {stacked_data['selected_indices'][:5]}...\")\n",
    "    \n",
    "except Exception as e:\n",
    "    print(f\"❌ 堆疊數據準備失敗: {e}\")\n",
    "    raise"
   ]
  },
  {
   "cell_type": "code",
   "execution_count": 10,
   "metadata": {},
   "outputs": [
    {
     "name": "stdout",
     "output_type": "stream",
     "text": [
      "🎨 繪製堆疊光譜圖...\n"
     ]
    },
    {
     "data": {
      "application/vnd.plotly.v1+json": {
       "config": {
        "plotlyServerURL": "https://plot.ly"
       },
       "data": [
        {
         "hovertemplate": "Pos 0 (0.0)<br>Bias: %{x:.3f} V<br>Current: %{y:.2e} A<extra></extra>",
         "line": {
          "color": "hsl(0.0, 70%, 50%)",
          "width": 1.5
         },
         "mode": "lines",
         "name": "Pos 0 (0.0)",
         "type": "scatter",
         "x": {
          "bdata": "AAAAAAAEoMAAAAAAAMqfwAAAAAAAjJ/AAAAAAABOn8AAAAAAABCfwAAAAAAA0p7AAAAAAACUnsAAAAAAAFaewAAAAAAAGJ7AAAAAAADancAAAAAAAJydwAAAAAAAXp3AAAAAAAAgncAAAAAAAOKcwAAAAAAApJzAAAAAAABmnMAAAAAAACicwAAAAAAA6pvAAAAAAACsm8AAAAAAAG6bwAAAAAAAMJvAAAAAAADymsAAAAAAALSawAAAAAAAdprAAAAAAAA4msAAAAAAAPqZwAAAAAAAvJnAAAAAAAB+mcAAAAAAAECZwAAAAAAAApnAAAAAAADEmMAAAAAAAIaYwAAAAAAASJjAAAAAAAAKmMAAAAAAAMyXwAAAAAAAjpfAAAAAAABQl8AAAAAAABKXwAAAAAAA1JbAAAAAAACWlsAAAAAAAFiWwAAAAAAAGpbAAAAAAADclcAAAAAAAJ6VwAAAAAAAYJXAAAAAAAAilcAAAAAAAOSUwAAAAAAAppTAAAAAAABolMAAAAAAACqUwAAAAAAA7JPAAAAAAACuk8AAAAAAAHCTwAAAAAAAMpPAAAAAAAD0ksAAAAAAALaSwAAAAAAAeJLAAAAAAAA6ksAAAAAAAPyRwAAAAAAAvpHAAAAAAACAkcAAAAAAAEKRwAAAAAAABJHAAAAAAADGkMAAAAAAAIiQwAAAAAAASpDAAAAAAAAMkMAAAAAAAJyPwAAAAAAAII/AAAAAAACkjsAAAAAAACiOwAAAAAAArI3AAAAAAAAwjcAAAAAAALSMwAAAAAAAOIzAAAAAAAC8i8AAAAAAAECLwAAAAAAAxIrAAAAAAABIisAAAAAAAMyJwAAAAAAAUInAAAAAAADUiMAAAAAAAFiIwAAAAAAA3IfAAAAAAABgh8AAAAAAAOSGwAAAAAAAaIbAAAAAAADshcAAAAAAAHCFwAAAAAAA9ITAAAAAAAB4hMAAAAAAAPyDwAAAAAAAgIPAAAAAAAAEg8AAAAAAAIiCwAAAAAAADILAAAAAAACQgcAAAAAAABSBwAAAAAAAmIDAAAAAAAAcgMAAAAAAAEB/wAAAAAAASH7AAAAAAABQfcAAAAAAAFh8wAAAAAAAYHvAAAAAAABoesAAAAAAAHB5wAAAAAAAeHjAAAAAAACAd8AAAAAAAIh2wAAAAAAAkHXAAAAAAACYdMAAAAAAAKBzwAAAAAAAqHLAAAAAAACwccAAAAAAALhwwAAAAAAAgG/AAAAAAACQbcAAAAAAAKBrwAAAAAAAsGnAAAAAAADAZ8AAAAAAANBlwAAAAAAA4GPAAAAAAADwYcAAAAAAAABgwAAAAAAAIFzAsi5uowFAWMAAAAAAAGBUwLIubqMBgFDAZF3cRgNAScAAAAAAAIBBwAAAAAAAgDPAADrMlxcAEMByio7k8v8mQAAAAAAAADtAnKIjufw/RUCcoiO5/P9MQAAAAAAAYFJATtGRXP4/VkAAAAAAACBaQAAAAAAAAF5AAAAAAADwYEAAAAAAAOBiQAAAAAAA0GRAAAAAAADAZkAAAAAAALBoQAAAAAAAoGpAAAAAAACQbEAAAAAAAIBuQAAAAAAAOHBAAAAAAAAwcUAAAAAAAChyQAAAAAAAIHNAAAAAAAAYdEAAAAAAABB1QAAAAAAACHZAAAAAAAAAd0AAAAAAAPh3QAAAAAAA8HhAAAAAAADoeUAAAAAAAOB6QAAAAAAA2HtAAAAAAADQfEAAAAAAAMh9QAAAAAAAwH5AAAAAAAC4f0AAAAAAAFiAQAAAAAAA1IBAAAAAAABQgUAAAAAAAMyBQAAAAAAASIJAAAAAAADEgkAAAAAAAECDQAAAAAAAvINAAAAAAAA4hEAAAAAAALSEQAAAAAAAMIVAAAAAAACshUAAAAAAACiGQAAAAAAApIZAAAAAAAAgh0AAAAAAAJyHQAAAAAAAGIhAAAAAAACUiEAAAAAAABCJQAAAAAAAjIlAAAAAAAAIikAAAAAAAISKQAAAAAAAAItAAAAAAAB8i0AAAAAAAPiLQAAAAAAAdIxAAAAAAADwjEAAAAAAAGyNQAAAAAAA6I1AAAAAAABkjkAAAAAAAOCOQAAAAAAAXI9AAAAAAADYj0AAAAAAACqQQAAAAAAAaJBA",
          "dtype": "f8"
         },
         "y": {
          "bdata": "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",
          "dtype": "f8"
         }
        },
        {
         "hovertemplate": "Pos 1 (2.0)<br>Bias: %{x:.3f} V<br>Current: %{y:.2e} A<extra></extra>",
         "line": {
          "color": "hsl(17.142857142857142, 70%, 50%)",
          "width": 1.5
         },
         "mode": "lines",
         "name": "Pos 1 (2.0)",
         "type": "scatter",
         "x": {
          "bdata": "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",
          "dtype": "f8"
         },
         "y": {
          "bdata": "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",
          "dtype": "f8"
         }
        },
        {
         "hovertemplate": "Pos 2 (4.0)<br>Bias: %{x:.3f} V<br>Current: %{y:.2e} A<extra></extra>",
         "line": {
          "color": "hsl(34.285714285714285, 70%, 50%)",
          "width": 1.5
         },
         "mode": "lines",
         "name": "Pos 2 (4.0)",
         "type": "scatter",
         "x": {
          "bdata": "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",
          "dtype": "f8"
         },
         "y": {
          "bdata": "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",
          "dtype": "f8"
         }
        },
        {
         "hovertemplate": "Pos 3 (6.0)<br>Bias: %{x:.3f} V<br>Current: %{y:.2e} A<extra></extra>",
         "line": {
          "color": "hsl(51.42857142857143, 70%, 50%)",
          "width": 1.5
         },
         "mode": "lines",
         "name": "Pos 3 (6.0)",
         "type": "scatter",
         "x": {
          "bdata": "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",
          "dtype": "f8"
         },
         "y": {
          "bdata": "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",
          "dtype": "f8"
         }
        },
        {
         "hovertemplate": "Pos 4 (8.0)<br>Bias: %{x:.3f} V<br>Current: %{y:.2e} A<extra></extra>",
         "line": {
          "color": "hsl(68.57142857142857, 70%, 50%)",
          "width": 1.5
         },
         "mode": "lines",
         "name": "Pos 4 (8.0)",
         "type": "scatter",
         "x": {
          "bdata": "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",
          "dtype": "f8"
         },
         "y": {
          "bdata": "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",
          "dtype": "f8"
         }
        },
        {
         "hovertemplate": "Pos 5 (10.0)<br>Bias: %{x:.3f} V<br>Current: %{y:.2e} A<extra></extra>",
         "line": {
          "color": "hsl(85.71428571428571, 70%, 50%)",
          "width": 1.5
         },
         "mode": "lines",
         "name": "Pos 5 (10.0)",
         "type": "scatter",
         "x": {
          "bdata": "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",
          "dtype": "f8"
         },
         "y": {
          "bdata": "JG46AuJXdT5uXkmnwlN1PqSzhI/NU3U++WAjetVTdT5A17g33VN1PnoWRcjkU3U+mue+/utTdT49Zn7D6lN1PuNbb9SvU3U+MPMDC7BsdT4izhRKN4N1Pm3HZYlnoXU++CoZ3VjndT4mUqa8gT52Po4kHlyXknY+bCiG2Mjkdj4NHsgn1912PqcNNUchBnc+Bjy9BwoMdz6Df3YSZCd3Pr18M56uOHc+JaPAHdk1dz50IF8oOjh3PlXOJLuzKHc+KzHl88oodz7lOcTjTzB3PgQmybZnM3c+4JodObE5dz462PrF+kN3PpiokE07RXc+JyAeJn9Mdz7e82gRWFJ3PnVXDfk1UXc+G3R3VrNTdz4iCGFH1lV3PiCtHUvvVHc+pJZw6ttadz5rsidWu1t3PjKDAgeaYnc+PmJ3dHRldz6kP6Z/M2F3PuyXaAUYYnc+bXG7BM1odz5HG/XJC2p3PtV2qARLbHc+dqCgUa1pdz6gdtdLG2R3PqR+Ys3panc+J767h71vdz5bAMPmWG53PktJxE01dHc+74i9a5Btdz7HS4MuBW93PpoLDCUzg3c+eDZ2pa6Gdz4OH2xbVop3Pj64dl3XjXc+aQ2nsUiOdz6q62SeIYx3PqDVC093i3c+R75UucCNdz6uOwnsVI93PgkPuaU2kHc+4OSYOoSQdz6/7oBGG5F3PigNKK1AkXc+KqaVZL+Rdz7fFXKSpZR3Pkby3E2jlXc+FWuterCUdz7fa/1ZA5J3Pufm3/lmknc+38Xn+wiUdz6K0/IzOJV3PhZMpfgvlnc+/AAoZMmVdz7vXv+qLpV3PmPXIPRplXc+D5uYbdCVdz4Gv3GgxJd3PsPV+k2hmXc+0o2V0tCadz49swe/NJt3PpswWhoqm3c+JPH3QRWcdz4oCkez3Jx3PqBGa0nMnHc+sUwwKcucdz46rpx0w5x3PgjX2LFGnnc+2bxMtj+fdz7tNgWg3593PkGP0rldoHc+rcX049+gdz7ZZRFR+6B3PuHOkxVaoHc+wZ5jVumgdz6NrRvYR6J3PruzNKeUo3c+CvZr5fmjdz4BUzLyhaN3PqokfQPYo3c+DpYpzy2jdz4h9HgVZaN3Psvcajypo3c+5MgxSKakdz4bLN8rqqV3PvSC1cSdpXc+z5PF4uGldz6539AdtqV3PgoCUDy0pnc++xa/tcCndz4MiVO/QKl3PkE2W0Iuq3c+nTW2c1qtdz4/3X8w6a53PuJRmWoZsHc+PhBzNaCwdz7uKrgSjLB3Pl18yxPBsHc+8cMQu6+wdz5BnSy2qLB3PpumvimUsHc+g3Zcipawdz5A3KeK67B3Pu+20AfBsHc+OBvZybqwdz6LuNzN6bB3PhazmUOusHc+sO98q8mwdz6VYNousLB3PrwZU4TVsHc+mBdgSKuwdz4O4ffmm7B3PgZvez/asHc+iMfjjbuwdz7PlE0XzbB3PuNzH0XgsHc+zVOzUcuwdz7FxpBk3LB3PuU+Wc/RsHc+Tj8iTaywdz60wlqC4rB3PokJOLPpsHc+QaNBobiwdz4IyqbBurB3PpZgwHC7sHc+E869SJywdz7E1h2eDLF3Proew/LcsHc+kh6jMiKxdz52lagFULF3Pn+S+2LTsXc+sfp9Qgaydz5MWYxbxrJ3Pk2EYB4Ns3c+8fPJ0oizdz68nNMg8LN3PpbAWGSWtHc+Htq1PBe1dz6nCJwjZ7V3PoFQUbsytnc+bVPuGny2dz4O3UI1Qbd3PndVWerit3c+xis8UlC4dz6eZkSbZLl3Pu1RxSD8uXc+Xc6wOb+6dz7gCFK/Cbx3PpmgLv36vHc+/cFG2ca+dz4Pa9l7rcB3PvWBwaxxw3c+mYLCZobFdz7he0m3ish3PoV/AwdOy3c+v6Yui4/Ndz6mfjIK6NJ3PmrowVeh1nc+xDMv66vYdz7YisMJTt53Pvde4iMp5Xc+KW5Aaxjrdz6+yzAMTfJ3PoH6tdXL/nc+I+Lyz0sHeD4YjkdhVBN4PjVqUuIGZHg+FeELeBGneD7xyIJ9+tN4PqHzuXuLAnk+kpqckJ45eT7XG/VV9Hp5Powu/7XssHk+F/K752zseT4TCDmCzft5PlK5+HF+yXk+F7/wcMcIej76spof9w16Ps4jLvD5DXo+",
          "dtype": "f8"
         }
        },
        {
         "hovertemplate": "Pos 6 (12.0)<br>Bias: %{x:.3f} V<br>Current: %{y:.2e} A<extra></extra>",
         "line": {
          "color": "hsl(102.85714285714286, 70%, 50%)",
          "width": 1.5
         },
         "mode": "lines",
         "name": "Pos 6 (12.0)",
         "type": "scatter",
         "x": {
          "bdata": "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",
          "dtype": "f8"
         },
         "y": {
          "bdata": "BIW+KVsVej7c+sadvBB6PoDynJbFEHo+ujEpJ80Qej7e7PMF0RB6Pv69bTzYEHo+l3ZeSMkQej7CYvNb8RF6PjNPhHg1Jno+J2S94G1Cej6PA5mfF316Ph6Nqqz6yHo+TahJ3Hsgez5MpTxzR4h7PuuEWLQQuHs+K4tn7z2tez707+NwN7d7PsB0ku9CsHs+EatmLzO4ez6jHceEIMN7PkZ+T5e24ns+4y9g9a/Wez60mDaHQd97Pvf6VTo8/3s+rHCu7GwAfD67umb2ZQN8PlPNN0tvCHw+8QbKDDkPfD7we85Qsw98PuEKnfoBCnw+iTEQIOMLfD7z7AjFpQ98Pp8JIuTZGHw+mqwYgVUgfD7obpxu4xx8Pj3p01yLGnw+wkKXG+0cfD5dfg7F+iN8Pgw5a9v+J3w+ZaaZhjgpfD7OvlNudyZ8Pu5cZqgeJHw+0rSSxhsmfD66cFGyjyp8Psj90fQSLnw+eHV6hGcrfD4tZSgO7Sh8Ppg8ilYYLXw+d5EwEugwfD6Rl0MXqzh8PsTX2tzPL3w+jtAM4b42fD5SP8VdnUJ8Pu8dWpL9Mnw+/egO6QUzfD6tLTJxMjd8PsekM3auS3w+tm4xKppOfD6kvOTAQ098PhjW1C2MTnw+s4zgUTlOfD4O7Dtlh098Pu0n28+XUXw+2GkBU4xRfD6aESZRvVB8PmaE25VyUHw+rrhYuNZQfD5L4U7uXFF8PtufyqGVUnw+3dJVrnlUfD6H0yM1DVR8Pn2Nl9I6U3w+uwc07DhTfD7ARtG4SFR8PmcbLKNOV3w+EYrSSytYfD7hV++cS1h8PqPJ6a+AV3w+dlZHwN5WfD56OqGQB1d8PjhHyjJ7V3w+tzJtr4tZfD7vc94n11l8PjFjx6VXWXw+s6fSj/hYfD4TBW3Lhll8PoUyHU+hW3w+vTdtBB1cfD7LMlVuTVx8PjKh5wcCXHw+/H3oKudbfD5JUWlAq118PuGf6l3oXXw+botBK41dfD7QY/uS7V18Pkw/qMizXXw+U+X77chdfD4zl32jq118PozCk7NBX3w+zGdAtv5ffD4MWYlvTGF8Pv6uYOYVYXw+amXFZtNgfD4DYlJZuWF8PtTcptEXYnw+UOs/sLRifD5anynhRmN8PhddeIoEZHw+qUaJ03JkfD63ppnxaWV8Pt8PJBh/Z3w+xOkBya1pfD49sQKz2mt8PtG4mqbUbHw+Ygz7IrptfD4EzQFQrG18Pu6K+ParbXw+avx/F7FtfD6Ua9nR7W18PhIr00yrbXw+cDem/bBtfD6nLd58xm18Pq7UiFS8bXw+aVDFa8JtfD4pI+T1qG18Pq+9dfGvbXw+6TKu5c1tfD6fDs+2rW18Pnkyz0iXbXw+0qzFWs9tfD6nl5/6n218PoYFoTTJbXw+1ye1X/9tfD6c4UyPpW18PvA15wLRbXw+TUe1bNBtfD5U7qm5pm18PgooxT3MbXw+FQsPIsptfD61ZQ4Jzm18PlhRLxPObXw+Y6UstMBtfD4KHc9Xt218PqALcFqzbXw+RlTau61tfD424bMsyW18PoxXJFfIbXw+pTyhit1tfD5rszmtlW18PvQ5Cj2+bXw+XNwuurZtfD5nbo33A258Pj3FAJglbnw+G2DEgLpufD741jWtpm58PjCDiosUb3w+NdewZvNvfD5lrt10N3B8PpKL3UrLcHw+I1g7lxhxfD5oaGRV03F8PhZAQpttcnw++CLLEeNyfD4CrY0WfHN8Pk5H74QddHw+HEMk6dt0fD4BCP43snV8Pqotwb+sdnw+q83V7OV3fD7yK49Knnh8PqfFLGBPenw+Tbhagnh8fD70cHDZmX58PufOPccRgXw+UBReeu+DfD4KOuWwJ4h8Prw7xaxAinw+TWSm9T+OfD7dF1/qQJJ8Pu1mVNU5l3w+mEIPUJ6efD5y0SQae6R8PoNmOje6q3w+ER7NWey1fD5sp7eXYsV8Ply9pPGy1nw+9UL8Q6HjfD4y/DagjfZ8PpLBdg8BC30+8OLiUH8sfT4lzqcYUlZ9Pkc6h3Mug30+zV5rPW3XfT69/LYA+cp+PiJSmYzzyn4+Q4SxEfusfj6PPGEbMcF+PowK4/T0yn4+weYHqfXKfj6ijqSm+Mp+PuSh0of5yn4+",
          "dtype": "f8"
         }
        },
        {
         "hovertemplate": "Pos 7 (14.0)<br>Bias: %{x:.3f} V<br>Current: %{y:.2e} A<extra></extra>",
         "line": {
          "color": "hsl(120.0, 70%, 50%)",
          "width": 1.5
         },
         "mode": "lines",
         "name": "Pos 7 (14.0)",
         "type": "scatter",
         "x": {
          "bdata": "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",
          "dtype": "f8"
         },
         "y": {
          "bdata": "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",
          "dtype": "f8"
         }
        },
        {
         "hovertemplate": "Pos 8 (16.0)<br>Bias: %{x:.3f} V<br>Current: %{y:.2e} A<extra></extra>",
         "line": {
          "color": "hsl(137.14285714285714, 70%, 50%)",
          "width": 1.5
         },
         "mode": "lines",
         "name": "Pos 8 (16.0)",
         "type": "scatter",
         "x": {
          "bdata": "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",
          "dtype": "f8"
         },
         "y": {
          "bdata": "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",
          "dtype": "f8"
         }
        },
        {
         "hovertemplate": "Pos 9 (18.0)<br>Bias: %{x:.3f} V<br>Current: %{y:.2e} A<extra></extra>",
         "line": {
          "color": "hsl(154.28571428571428, 70%, 50%)",
          "width": 1.5
         },
         "mode": "lines",
         "name": "Pos 9 (18.0)",
         "type": "scatter",
         "x": {
          "bdata": "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",
          "dtype": "f8"
         },
         "y": {
          "bdata": "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",
          "dtype": "f8"
         }
        },
        {
         "hovertemplate": "Pos 10 (20.0)<br>Bias: %{x:.3f} V<br>Current: %{y:.2e} A<extra></extra>",
         "line": {
          "color": "hsl(171.42857142857142, 70%, 50%)",
          "width": 1.5
         },
         "mode": "lines",
         "name": "Pos 10 (20.0)",
         "type": "scatter",
         "x": {
          "bdata": "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",
          "dtype": "f8"
         },
         "y": {
          "bdata": "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",
          "dtype": "f8"
         }
        },
        {
         "hovertemplate": "Pos 11 (22.0)<br>Bias: %{x:.3f} V<br>Current: %{y:.2e} A<extra></extra>",
         "line": {
          "color": "hsl(188.57142857142858, 70%, 50%)",
          "width": 1.5
         },
         "mode": "lines",
         "name": "Pos 11 (22.0)",
         "type": "scatter",
         "x": {
          "bdata": "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",
          "dtype": "f8"
         },
         "y": {
          "bdata": "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",
          "dtype": "f8"
         }
        },
        {
         "hovertemplate": "Pos 12 (24.0)<br>Bias: %{x:.3f} V<br>Current: %{y:.2e} A<extra></extra>",
         "line": {
          "color": "hsl(205.71428571428572, 70%, 50%)",
          "width": 1.5
         },
         "mode": "lines",
         "name": "Pos 12 (24.0)",
         "type": "scatter",
         "x": {
          "bdata": "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",
          "dtype": "f8"
         },
         "y": {
          "bdata": "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",
          "dtype": "f8"
         }
        },
        {
         "hovertemplate": "Pos 13 (26.0)<br>Bias: %{x:.3f} V<br>Current: %{y:.2e} A<extra></extra>",
         "line": {
          "color": "hsl(222.85714285714286, 70%, 50%)",
          "width": 1.5
         },
         "mode": "lines",
         "name": "Pos 13 (26.0)",
         "type": "scatter",
         "x": {
          "bdata": "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",
          "dtype": "f8"
         },
         "y": {
          "bdata": "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",
          "dtype": "f8"
         }
        },
        {
         "hovertemplate": "Pos 14 (28.0)<br>Bias: %{x:.3f} V<br>Current: %{y:.2e} A<extra></extra>",
         "line": {
          "color": "hsl(240.0, 70%, 50%)",
          "width": 1.5
         },
         "mode": "lines",
         "name": "Pos 14 (28.0)",
         "type": "scatter",
         "x": {
          "bdata": "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",
          "dtype": "f8"
         },
         "y": {
          "bdata": "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",
          "dtype": "f8"
         }
        },
        {
         "hovertemplate": "Pos 15 (30.0)<br>Bias: %{x:.3f} V<br>Current: %{y:.2e} A<extra></extra>",
         "line": {
          "color": "hsl(257.14285714285717, 70%, 50%)",
          "width": 1.5
         },
         "mode": "lines",
         "name": "Pos 15 (30.0)",
         "type": "scatter",
         "x": {
          "bdata": "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",
          "dtype": "f8"
         },
         "y": {
          "bdata": "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",
          "dtype": "f8"
         }
        },
        {
         "hovertemplate": "Pos 16 (32.0)<br>Bias: %{x:.3f} V<br>Current: %{y:.2e} A<extra></extra>",
         "line": {
          "color": "hsl(274.2857142857143, 70%, 50%)",
          "width": 1.5
         },
         "mode": "lines",
         "name": "Pos 16 (32.0)",
         "type": "scatter",
         "x": {
          "bdata": "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",
          "dtype": "f8"
         },
         "y": {
          "bdata": "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",
          "dtype": "f8"
         }
        },
        {
         "hovertemplate": "Pos 17 (34.0)<br>Bias: %{x:.3f} V<br>Current: %{y:.2e} A<extra></extra>",
         "line": {
          "color": "hsl(291.42857142857144, 70%, 50%)",
          "width": 1.5
         },
         "mode": "lines",
         "name": "Pos 17 (34.0)",
         "type": "scatter",
         "x": {
          "bdata": "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",
          "dtype": "f8"
         },
         "y": {
          "bdata": "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",
          "dtype": "f8"
         }
        },
        {
         "hovertemplate": "Pos 18 (36.0)<br>Bias: %{x:.3f} V<br>Current: %{y:.2e} A<extra></extra>",
         "line": {
          "color": "hsl(308.57142857142856, 70%, 50%)",
          "width": 1.5
         },
         "mode": "lines",
         "name": "Pos 18 (36.0)",
         "type": "scatter",
         "x": {
          "bdata": "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",
          "dtype": "f8"
         },
         "y": {
          "bdata": "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",
          "dtype": "f8"
         }
        },
        {
         "hovertemplate": "Pos 19 (38.0)<br>Bias: %{x:.3f} V<br>Current: %{y:.2e} A<extra></extra>",
         "line": {
          "color": "hsl(325.7142857142857, 70%, 50%)",
          "width": 1.5
         },
         "mode": "lines",
         "name": "Pos 19 (38.0)",
         "type": "scatter",
         "x": {
          "bdata": "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",
          "dtype": "f8"
         },
         "y": {
          "bdata": "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",
          "dtype": "f8"
         }
        },
        {
         "hovertemplate": "Pos 20 (40.0)<br>Bias: %{x:.3f} V<br>Current: %{y:.2e} A<extra></extra>",
         "line": {
          "color": "hsl(342.85714285714283, 70%, 50%)",
          "width": 1.5
         },
         "mode": "lines",
         "name": "Pos 20 (40.0)",
         "type": "scatter",
         "x": {
          "bdata": "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",
          "dtype": "f8"
         },
         "y": {
          "bdata": "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",
          "dtype": "f8"
         }
        }
       ],
       "layout": {
        "height": 700,
        "hovermode": "closest",
        "template": {
         "data": {
          "bar": [
           {
            "error_x": {
             "color": "#2a3f5f"
            },
            "error_y": {
             "color": "#2a3f5f"
            },
            "marker": {
             "line": {
              "color": "white",
              "width": 0.5
             },
             "pattern": {
              "fillmode": "overlay",
              "size": 10,
              "solidity": 0.2
             }
            },
            "type": "bar"
           }
          ],
          "barpolar": [
           {
            "marker": {
             "line": {
              "color": "white",
              "width": 0.5
             },
             "pattern": {
              "fillmode": "overlay",
              "size": 10,
              "solidity": 0.2
             }
            },
            "type": "barpolar"
           }
          ],
          "carpet": [
           {
            "aaxis": {
             "endlinecolor": "#2a3f5f",
             "gridcolor": "#C8D4E3",
             "linecolor": "#C8D4E3",
             "minorgridcolor": "#C8D4E3",
             "startlinecolor": "#2a3f5f"
            },
            "baxis": {
             "endlinecolor": "#2a3f5f",
             "gridcolor": "#C8D4E3",
             "linecolor": "#C8D4E3",
             "minorgridcolor": "#C8D4E3",
             "startlinecolor": "#2a3f5f"
            },
            "type": "carpet"
           }
          ],
          "choropleth": [
           {
            "colorbar": {
             "outlinewidth": 0,
             "ticks": ""
            },
            "type": "choropleth"
           }
          ],
          "contour": [
           {
            "colorbar": {
             "outlinewidth": 0,
             "ticks": ""
            },
            "colorscale": [
             [
              0,
              "#0d0887"
             ],
             [
              0.1111111111111111,
              "#46039f"
             ],
             [
              0.2222222222222222,
              "#7201a8"
             ],
             [
              0.3333333333333333,
              "#9c179e"
             ],
             [
              0.4444444444444444,
              "#bd3786"
             ],
             [
              0.5555555555555556,
              "#d8576b"
             ],
             [
              0.6666666666666666,
              "#ed7953"
             ],
             [
              0.7777777777777778,
              "#fb9f3a"
             ],
             [
              0.8888888888888888,
              "#fdca26"
             ],
             [
              1,
              "#f0f921"
             ]
            ],
            "type": "contour"
           }
          ],
          "contourcarpet": [
           {
            "colorbar": {
             "outlinewidth": 0,
             "ticks": ""
            },
            "type": "contourcarpet"
           }
          ],
          "heatmap": [
           {
            "colorbar": {
             "outlinewidth": 0,
             "ticks": ""
            },
            "colorscale": [
             [
              0,
              "#0d0887"
             ],
             [
              0.1111111111111111,
              "#46039f"
             ],
             [
              0.2222222222222222,
              "#7201a8"
             ],
             [
              0.3333333333333333,
              "#9c179e"
             ],
             [
              0.4444444444444444,
              "#bd3786"
             ],
             [
              0.5555555555555556,
              "#d8576b"
             ],
             [
              0.6666666666666666,
              "#ed7953"
             ],
             [
              0.7777777777777778,
              "#fb9f3a"
             ],
             [
              0.8888888888888888,
              "#fdca26"
             ],
             [
              1,
              "#f0f921"
             ]
            ],
            "type": "heatmap"
           }
          ],
          "histogram": [
           {
            "marker": {
             "pattern": {
              "fillmode": "overlay",
              "size": 10,
              "solidity": 0.2
             }
            },
            "type": "histogram"
           }
          ],
          "histogram2d": [
           {
            "colorbar": {
             "outlinewidth": 0,
             "ticks": ""
            },
            "colorscale": [
             [
              0,
              "#0d0887"
             ],
             [
              0.1111111111111111,
              "#46039f"
             ],
             [
              0.2222222222222222,
              "#7201a8"
             ],
             [
              0.3333333333333333,
              "#9c179e"
             ],
             [
              0.4444444444444444,
              "#bd3786"
             ],
             [
              0.5555555555555556,
              "#d8576b"
             ],
             [
              0.6666666666666666,
              "#ed7953"
             ],
             [
              0.7777777777777778,
              "#fb9f3a"
             ],
             [
              0.8888888888888888,
              "#fdca26"
             ],
             [
              1,
              "#f0f921"
             ]
            ],
            "type": "histogram2d"
           }
          ],
          "histogram2dcontour": [
           {
            "colorbar": {
             "outlinewidth": 0,
             "ticks": ""
            },
            "colorscale": [
             [
              0,
              "#0d0887"
             ],
             [
              0.1111111111111111,
              "#46039f"
             ],
             [
              0.2222222222222222,
              "#7201a8"
             ],
             [
              0.3333333333333333,
              "#9c179e"
             ],
             [
              0.4444444444444444,
              "#bd3786"
             ],
             [
              0.5555555555555556,
              "#d8576b"
             ],
             [
              0.6666666666666666,
              "#ed7953"
             ],
             [
              0.7777777777777778,
              "#fb9f3a"
             ],
             [
              0.8888888888888888,
              "#fdca26"
             ],
             [
              1,
              "#f0f921"
             ]
            ],
            "type": "histogram2dcontour"
           }
          ],
          "mesh3d": [
           {
            "colorbar": {
             "outlinewidth": 0,
             "ticks": ""
            },
            "type": "mesh3d"
           }
          ],
          "parcoords": [
           {
            "line": {
             "colorbar": {
              "outlinewidth": 0,
              "ticks": ""
             }
            },
            "type": "parcoords"
           }
          ],
          "pie": [
           {
            "automargin": true,
            "type": "pie"
           }
          ],
          "scatter": [
           {
            "fillpattern": {
             "fillmode": "overlay",
             "size": 10,
             "solidity": 0.2
            },
            "type": "scatter"
           }
          ],
          "scatter3d": [
           {
            "line": {
             "colorbar": {
              "outlinewidth": 0,
              "ticks": ""
             }
            },
            "marker": {
             "colorbar": {
              "outlinewidth": 0,
              "ticks": ""
             }
            },
            "type": "scatter3d"
           }
          ],
          "scattercarpet": [
           {
            "marker": {
             "colorbar": {
              "outlinewidth": 0,
              "ticks": ""
             }
            },
            "type": "scattercarpet"
           }
          ],
          "scattergeo": [
           {
            "marker": {
             "colorbar": {
              "outlinewidth": 0,
              "ticks": ""
             }
            },
            "type": "scattergeo"
           }
          ],
          "scattergl": [
           {
            "marker": {
             "colorbar": {
              "outlinewidth": 0,
              "ticks": ""
             }
            },
            "type": "scattergl"
           }
          ],
          "scattermap": [
           {
            "marker": {
             "colorbar": {
              "outlinewidth": 0,
              "ticks": ""
             }
            },
            "type": "scattermap"
           }
          ],
          "scattermapbox": [
           {
            "marker": {
             "colorbar": {
              "outlinewidth": 0,
              "ticks": ""
             }
            },
            "type": "scattermapbox"
           }
          ],
          "scatterpolar": [
           {
            "marker": {
             "colorbar": {
              "outlinewidth": 0,
              "ticks": ""
             }
            },
            "type": "scatterpolar"
           }
          ],
          "scatterpolargl": [
           {
            "marker": {
             "colorbar": {
              "outlinewidth": 0,
              "ticks": ""
             }
            },
            "type": "scatterpolargl"
           }
          ],
          "scatterternary": [
           {
            "marker": {
             "colorbar": {
              "outlinewidth": 0,
              "ticks": ""
             }
            },
            "type": "scatterternary"
           }
          ],
          "surface": [
           {
            "colorbar": {
             "outlinewidth": 0,
             "ticks": ""
            },
            "colorscale": [
             [
              0,
              "#0d0887"
             ],
             [
              0.1111111111111111,
              "#46039f"
             ],
             [
              0.2222222222222222,
              "#7201a8"
             ],
             [
              0.3333333333333333,
              "#9c179e"
             ],
             [
              0.4444444444444444,
              "#bd3786"
             ],
             [
              0.5555555555555556,
              "#d8576b"
             ],
             [
              0.6666666666666666,
              "#ed7953"
             ],
             [
              0.7777777777777778,
              "#fb9f3a"
             ],
             [
              0.8888888888888888,
              "#fdca26"
             ],
             [
              1,
              "#f0f921"
             ]
            ],
            "type": "surface"
           }
          ],
          "table": [
           {
            "cells": {
             "fill": {
              "color": "#EBF0F8"
             },
             "line": {
              "color": "white"
             }
            },
            "header": {
             "fill": {
              "color": "#C8D4E3"
             },
             "line": {
              "color": "white"
             }
            },
            "type": "table"
           }
          ]
         },
         "layout": {
          "annotationdefaults": {
           "arrowcolor": "#2a3f5f",
           "arrowhead": 0,
           "arrowwidth": 1
          },
          "autotypenumbers": "strict",
          "coloraxis": {
           "colorbar": {
            "outlinewidth": 0,
            "ticks": ""
           }
          },
          "colorscale": {
           "diverging": [
            [
             0,
             "#8e0152"
            ],
            [
             0.1,
             "#c51b7d"
            ],
            [
             0.2,
             "#de77ae"
            ],
            [
             0.3,
             "#f1b6da"
            ],
            [
             0.4,
             "#fde0ef"
            ],
            [
             0.5,
             "#f7f7f7"
            ],
            [
             0.6,
             "#e6f5d0"
            ],
            [
             0.7,
             "#b8e186"
            ],
            [
             0.8,
             "#7fbc41"
            ],
            [
             0.9,
             "#4d9221"
            ],
            [
             1,
             "#276419"
            ]
           ],
           "sequential": [
            [
             0,
             "#0d0887"
            ],
            [
             0.1111111111111111,
             "#46039f"
            ],
            [
             0.2222222222222222,
             "#7201a8"
            ],
            [
             0.3333333333333333,
             "#9c179e"
            ],
            [
             0.4444444444444444,
             "#bd3786"
            ],
            [
             0.5555555555555556,
             "#d8576b"
            ],
            [
             0.6666666666666666,
             "#ed7953"
            ],
            [
             0.7777777777777778,
             "#fb9f3a"
            ],
            [
             0.8888888888888888,
             "#fdca26"
            ],
            [
             1,
             "#f0f921"
            ]
           ],
           "sequentialminus": [
            [
             0,
             "#0d0887"
            ],
            [
             0.1111111111111111,
             "#46039f"
            ],
            [
             0.2222222222222222,
             "#7201a8"
            ],
            [
             0.3333333333333333,
             "#9c179e"
            ],
            [
             0.4444444444444444,
             "#bd3786"
            ],
            [
             0.5555555555555556,
             "#d8576b"
            ],
            [
             0.6666666666666666,
             "#ed7953"
            ],
            [
             0.7777777777777778,
             "#fb9f3a"
            ],
            [
             0.8888888888888888,
             "#fdca26"
            ],
            [
             1,
             "#f0f921"
            ]
           ]
          },
          "colorway": [
           "#636efa",
           "#EF553B",
           "#00cc96",
           "#ab63fa",
           "#FFA15A",
           "#19d3f3",
           "#FF6692",
           "#B6E880",
           "#FF97FF",
           "#FECB52"
          ],
          "font": {
           "color": "#2a3f5f"
          },
          "geo": {
           "bgcolor": "white",
           "lakecolor": "white",
           "landcolor": "white",
           "showlakes": true,
           "showland": true,
           "subunitcolor": "#C8D4E3"
          },
          "hoverlabel": {
           "align": "left"
          },
          "hovermode": "closest",
          "mapbox": {
           "style": "light"
          },
          "paper_bgcolor": "white",
          "plot_bgcolor": "white",
          "polar": {
           "angularaxis": {
            "gridcolor": "#EBF0F8",
            "linecolor": "#EBF0F8",
            "ticks": ""
           },
           "bgcolor": "white",
           "radialaxis": {
            "gridcolor": "#EBF0F8",
            "linecolor": "#EBF0F8",
            "ticks": ""
           }
          },
          "scene": {
           "xaxis": {
            "backgroundcolor": "white",
            "gridcolor": "#DFE8F3",
            "gridwidth": 2,
            "linecolor": "#EBF0F8",
            "showbackground": true,
            "ticks": "",
            "zerolinecolor": "#EBF0F8"
           },
           "yaxis": {
            "backgroundcolor": "white",
            "gridcolor": "#DFE8F3",
            "gridwidth": 2,
            "linecolor": "#EBF0F8",
            "showbackground": true,
            "ticks": "",
            "zerolinecolor": "#EBF0F8"
           },
           "zaxis": {
            "backgroundcolor": "white",
            "gridcolor": "#DFE8F3",
            "gridwidth": 2,
            "linecolor": "#EBF0F8",
            "showbackground": true,
            "ticks": "",
            "zerolinecolor": "#EBF0F8"
           }
          },
          "shapedefaults": {
           "line": {
            "color": "#2a3f5f"
           }
          },
          "ternary": {
           "aaxis": {
            "gridcolor": "#DFE8F3",
            "linecolor": "#A2B1C6",
            "ticks": ""
           },
           "baxis": {
            "gridcolor": "#DFE8F3",
            "linecolor": "#A2B1C6",
            "ticks": ""
           },
           "bgcolor": "white",
           "caxis": {
            "gridcolor": "#DFE8F3",
            "linecolor": "#A2B1C6",
            "ticks": ""
           }
          },
          "title": {
           "x": 0.05
          },
          "xaxis": {
           "automargin": true,
           "gridcolor": "#EBF0F8",
           "linecolor": "#EBF0F8",
           "ticks": "",
           "title": {
            "standoff": 15
           },
           "zerolinecolor": "#EBF0F8",
           "zerolinewidth": 2
          },
          "yaxis": {
           "automargin": true,
           "gridcolor": "#EBF0F8",
           "linecolor": "#EBF0F8",
           "ticks": "",
           "title": {
            "standoff": 15
           },
           "zerolinecolor": "#EBF0F8",
           "zerolinewidth": 2
          }
         }
        },
        "title": {
         "text": "堆疊光譜圖 - 線剖面 (10, 10)→(50, 50)<br><sub>Showing 21 of 21 spectra (offset: 1.0×)</sub>"
        },
        "width": 900,
        "xaxis": {
         "title": {
          "text": "Bias Voltage (V)"
         }
        },
        "yaxis": {
         "title": {
          "text": "Current (A) + Offset"
         }
        }
       }
      }
     },
     "metadata": {},
     "output_type": "display_data"
    },
    {
     "name": "stdout",
     "output_type": "stream",
     "text": [
      "✅ 堆疊光譜圖繪製完成\n"
     ]
    }
   ],
   "source": [
    "# 繪製堆疊光譜圖 / Plot stacked spectra\n",
    "print(\"🎨 繪製堆疊光譜圖...\")\n",
    "try:\n",
    "    fig_stacked = SpectroscopyPlotting.plot_stacked_spectra(\n",
    "        line_spectra=stacked_data['selected_spectra'],\n",
    "        bias_values=stacked_data['bias_values'],\n",
    "        offset_factor=OFFSET_FACTOR,\n",
    "        positions=stacked_data['selected_positions'],\n",
    "        max_curves=MAX_CURVES,\n",
    "        title=f\"堆疊光譜圖 - 線剖面 {LINE_START}→{LINE_END}\",\n",
    "        width=900,\n",
    "        height=700\n",
    "    )\n",
    "    \n",
    "    fig_stacked.show()\n",
    "    print(\"✅ 堆疊光譜圖繪製完成\")\n",
    "    \n",
    "except Exception as e:\n",
    "    print(f\"❌ 堆疊光譜圖繪製失敗: {e}\")\n",
    "    raise"
   ]
  },
  {
   "cell_type": "markdown",
   "metadata": {},
   "source": [
    "## 5. 額外示範：單點光譜提取 / Additional Demo: Single Point Spectrum\n",
    "\n",
    "示範如何提取和繪製單點 STS 光譜  \n",
    "Demonstrate how to extract and plot single point STS spectrum"
   ]
  },
  {
   "cell_type": "code",
   "execution_count": 11,
   "metadata": {},
   "outputs": [
    {
     "name": "stdout",
     "output_type": "stream",
     "text": [
      "📍 提取單點光譜，座標: (30, 30)\n",
      "✅ 單點光譜提取成功\n",
      "📊 光譜點數: 401\n",
      "⚡ 偏壓範圍: -2050.000V 到 -2050.000V\n"
     ]
    },
    {
     "name": "stderr",
     "output_type": "stream",
     "text": [
      "/Users/yangziliang/Git-Projects/keen/backend/test/../core/analysis/cits_analysis.py:891: RuntimeWarning:\n",
      "\n",
      "divide by zero encountered in scalar divide\n",
      "\n"
     ]
    }
   ],
   "source": [
    "# 提取單點光譜 / Extract single point spectrum\n",
    "POINT_X, POINT_Y = 30, 30  # 設定要分析的點座標 / Set point coordinates to analyze\n",
    "\n",
    "print(f\"📍 提取單點光譜，座標: ({POINT_X}, {POINT_Y})\")\n",
    "try:\n",
    "    point_data = extract_point_spectrum(cits_data_dict, POINT_X, POINT_Y)\n",
    "    \n",
    "    print(f\"✅ 單點光譜提取成功\")\n",
    "    print(f\"📊 光譜點數: {point_data['n_points']}\")\n",
    "    print(f\"⚡ 偏壓範圍: {point_data['bias_values'][0]:.3f}V 到 {point_data['bias_values'][-1]:.3f}V\")\n",
    "    \n",
    "except Exception as e:\n",
    "    print(f\"❌ 單點光譜提取失敗: {e}\")\n",
    "    raise"
   ]
  },
  {
   "cell_type": "code",
   "execution_count": 12,
   "metadata": {},
   "outputs": [
    {
     "name": "stdout",
     "output_type": "stream",
     "text": [
      "🎨 繪製單點 STS 光譜...\n"
     ]
    },
    {
     "data": {
      "application/vnd.plotly.v1+json": {
       "config": {
        "plotlyServerURL": "https://plot.ly"
       },
       "data": [
        {
         "hovertemplate": "Bias: %{x:.3f} V<br>Current: %{y:.2e} A<extra></extra>",
         "line": {
          "color": "blue",
          "width": 2
         },
         "mode": "lines",
         "name": "Current (I)",
         "type": "scatter",
         "x": {
          "bdata": "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",
          "dtype": "f8"
         },
         "y": {
          "bdata": "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",
          "dtype": "f8"
         }
        },
        {
         "hovertemplate": "Bias: %{x:.3f} V<br>Conductance: %{y:.2e} S<extra></extra>",
         "line": {
          "color": "red",
          "width": 2
         },
         "mode": "lines",
         "name": "Conductance (dI/dV)",
         "type": "scatter",
         "x": {
          "bdata": "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",
          "dtype": "f8"
         },
         "xaxis": "x",
         "y": {
          "bdata": "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",
          "dtype": "f8"
         },
         "yaxis": "y2"
        }
       ],
       "layout": {
        "height": 500,
        "hovermode": "x unified",
        "template": {
         "data": {
          "bar": [
           {
            "error_x": {
             "color": "#2a3f5f"
            },
            "error_y": {
             "color": "#2a3f5f"
            },
            "marker": {
             "line": {
              "color": "white",
              "width": 0.5
             },
             "pattern": {
              "fillmode": "overlay",
              "size": 10,
              "solidity": 0.2
             }
            },
            "type": "bar"
           }
          ],
          "barpolar": [
           {
            "marker": {
             "line": {
              "color": "white",
              "width": 0.5
             },
             "pattern": {
              "fillmode": "overlay",
              "size": 10,
              "solidity": 0.2
             }
            },
            "type": "barpolar"
           }
          ],
          "carpet": [
           {
            "aaxis": {
             "endlinecolor": "#2a3f5f",
             "gridcolor": "#C8D4E3",
             "linecolor": "#C8D4E3",
             "minorgridcolor": "#C8D4E3",
             "startlinecolor": "#2a3f5f"
            },
            "baxis": {
             "endlinecolor": "#2a3f5f",
             "gridcolor": "#C8D4E3",
             "linecolor": "#C8D4E3",
             "minorgridcolor": "#C8D4E3",
             "startlinecolor": "#2a3f5f"
            },
            "type": "carpet"
           }
          ],
          "choropleth": [
           {
            "colorbar": {
             "outlinewidth": 0,
             "ticks": ""
            },
            "type": "choropleth"
           }
          ],
          "contour": [
           {
            "colorbar": {
             "outlinewidth": 0,
             "ticks": ""
            },
            "colorscale": [
             [
              0,
              "#0d0887"
             ],
             [
              0.1111111111111111,
              "#46039f"
             ],
             [
              0.2222222222222222,
              "#7201a8"
             ],
             [
              0.3333333333333333,
              "#9c179e"
             ],
             [
              0.4444444444444444,
              "#bd3786"
             ],
             [
              0.5555555555555556,
              "#d8576b"
             ],
             [
              0.6666666666666666,
              "#ed7953"
             ],
             [
              0.7777777777777778,
              "#fb9f3a"
             ],
             [
              0.8888888888888888,
              "#fdca26"
             ],
             [
              1,
              "#f0f921"
             ]
            ],
            "type": "contour"
           }
          ],
          "contourcarpet": [
           {
            "colorbar": {
             "outlinewidth": 0,
             "ticks": ""
            },
            "type": "contourcarpet"
           }
          ],
          "heatmap": [
           {
            "colorbar": {
             "outlinewidth": 0,
             "ticks": ""
            },
            "colorscale": [
             [
              0,
              "#0d0887"
             ],
             [
              0.1111111111111111,
              "#46039f"
             ],
             [
              0.2222222222222222,
              "#7201a8"
             ],
             [
              0.3333333333333333,
              "#9c179e"
             ],
             [
              0.4444444444444444,
              "#bd3786"
             ],
             [
              0.5555555555555556,
              "#d8576b"
             ],
             [
              0.6666666666666666,
              "#ed7953"
             ],
             [
              0.7777777777777778,
              "#fb9f3a"
             ],
             [
              0.8888888888888888,
              "#fdca26"
             ],
             [
              1,
              "#f0f921"
             ]
            ],
            "type": "heatmap"
           }
          ],
          "histogram": [
           {
            "marker": {
             "pattern": {
              "fillmode": "overlay",
              "size": 10,
              "solidity": 0.2
             }
            },
            "type": "histogram"
           }
          ],
          "histogram2d": [
           {
            "colorbar": {
             "outlinewidth": 0,
             "ticks": ""
            },
            "colorscale": [
             [
              0,
              "#0d0887"
             ],
             [
              0.1111111111111111,
              "#46039f"
             ],
             [
              0.2222222222222222,
              "#7201a8"
             ],
             [
              0.3333333333333333,
              "#9c179e"
             ],
             [
              0.4444444444444444,
              "#bd3786"
             ],
             [
              0.5555555555555556,
              "#d8576b"
             ],
             [
              0.6666666666666666,
              "#ed7953"
             ],
             [
              0.7777777777777778,
              "#fb9f3a"
             ],
             [
              0.8888888888888888,
              "#fdca26"
             ],
             [
              1,
              "#f0f921"
             ]
            ],
            "type": "histogram2d"
           }
          ],
          "histogram2dcontour": [
           {
            "colorbar": {
             "outlinewidth": 0,
             "ticks": ""
            },
            "colorscale": [
             [
              0,
              "#0d0887"
             ],
             [
              0.1111111111111111,
              "#46039f"
             ],
             [
              0.2222222222222222,
              "#7201a8"
             ],
             [
              0.3333333333333333,
              "#9c179e"
             ],
             [
              0.4444444444444444,
              "#bd3786"
             ],
             [
              0.5555555555555556,
              "#d8576b"
             ],
             [
              0.6666666666666666,
              "#ed7953"
             ],
             [
              0.7777777777777778,
              "#fb9f3a"
             ],
             [
              0.8888888888888888,
              "#fdca26"
             ],
             [
              1,
              "#f0f921"
             ]
            ],
            "type": "histogram2dcontour"
           }
          ],
          "mesh3d": [
           {
            "colorbar": {
             "outlinewidth": 0,
             "ticks": ""
            },
            "type": "mesh3d"
           }
          ],
          "parcoords": [
           {
            "line": {
             "colorbar": {
              "outlinewidth": 0,
              "ticks": ""
             }
            },
            "type": "parcoords"
           }
          ],
          "pie": [
           {
            "automargin": true,
            "type": "pie"
           }
          ],
          "scatter": [
           {
            "fillpattern": {
             "fillmode": "overlay",
             "size": 10,
             "solidity": 0.2
            },
            "type": "scatter"
           }
          ],
          "scatter3d": [
           {
            "line": {
             "colorbar": {
              "outlinewidth": 0,
              "ticks": ""
             }
            },
            "marker": {
             "colorbar": {
              "outlinewidth": 0,
              "ticks": ""
             }
            },
            "type": "scatter3d"
           }
          ],
          "scattercarpet": [
           {
            "marker": {
             "colorbar": {
              "outlinewidth": 0,
              "ticks": ""
             }
            },
            "type": "scattercarpet"
           }
          ],
          "scattergeo": [
           {
            "marker": {
             "colorbar": {
              "outlinewidth": 0,
              "ticks": ""
             }
            },
            "type": "scattergeo"
           }
          ],
          "scattergl": [
           {
            "marker": {
             "colorbar": {
              "outlinewidth": 0,
              "ticks": ""
             }
            },
            "type": "scattergl"
           }
          ],
          "scattermap": [
           {
            "marker": {
             "colorbar": {
              "outlinewidth": 0,
              "ticks": ""
             }
            },
            "type": "scattermap"
           }
          ],
          "scattermapbox": [
           {
            "marker": {
             "colorbar": {
              "outlinewidth": 0,
              "ticks": ""
             }
            },
            "type": "scattermapbox"
           }
          ],
          "scatterpolar": [
           {
            "marker": {
             "colorbar": {
              "outlinewidth": 0,
              "ticks": ""
             }
            },
            "type": "scatterpolar"
           }
          ],
          "scatterpolargl": [
           {
            "marker": {
             "colorbar": {
              "outlinewidth": 0,
              "ticks": ""
             }
            },
            "type": "scatterpolargl"
           }
          ],
          "scatterternary": [
           {
            "marker": {
             "colorbar": {
              "outlinewidth": 0,
              "ticks": ""
             }
            },
            "type": "scatterternary"
           }
          ],
          "surface": [
           {
            "colorbar": {
             "outlinewidth": 0,
             "ticks": ""
            },
            "colorscale": [
             [
              0,
              "#0d0887"
             ],
             [
              0.1111111111111111,
              "#46039f"
             ],
             [
              0.2222222222222222,
              "#7201a8"
             ],
             [
              0.3333333333333333,
              "#9c179e"
             ],
             [
              0.4444444444444444,
              "#bd3786"
             ],
             [
              0.5555555555555556,
              "#d8576b"
             ],
             [
              0.6666666666666666,
              "#ed7953"
             ],
             [
              0.7777777777777778,
              "#fb9f3a"
             ],
             [
              0.8888888888888888,
              "#fdca26"
             ],
             [
              1,
              "#f0f921"
             ]
            ],
            "type": "surface"
           }
          ],
          "table": [
           {
            "cells": {
             "fill": {
              "color": "#EBF0F8"
             },
             "line": {
              "color": "white"
             }
            },
            "header": {
             "fill": {
              "color": "#C8D4E3"
             },
             "line": {
              "color": "white"
             }
            },
            "type": "table"
           }
          ]
         },
         "layout": {
          "annotationdefaults": {
           "arrowcolor": "#2a3f5f",
           "arrowhead": 0,
           "arrowwidth": 1
          },
          "autotypenumbers": "strict",
          "coloraxis": {
           "colorbar": {
            "outlinewidth": 0,
            "ticks": ""
           }
          },
          "colorscale": {
           "diverging": [
            [
             0,
             "#8e0152"
            ],
            [
             0.1,
             "#c51b7d"
            ],
            [
             0.2,
             "#de77ae"
            ],
            [
             0.3,
             "#f1b6da"
            ],
            [
             0.4,
             "#fde0ef"
            ],
            [
             0.5,
             "#f7f7f7"
            ],
            [
             0.6,
             "#e6f5d0"
            ],
            [
             0.7,
             "#b8e186"
            ],
            [
             0.8,
             "#7fbc41"
            ],
            [
             0.9,
             "#4d9221"
            ],
            [
             1,
             "#276419"
            ]
           ],
           "sequential": [
            [
             0,
             "#0d0887"
            ],
            [
             0.1111111111111111,
             "#46039f"
            ],
            [
             0.2222222222222222,
             "#7201a8"
            ],
            [
             0.3333333333333333,
             "#9c179e"
            ],
            [
             0.4444444444444444,
             "#bd3786"
            ],
            [
             0.5555555555555556,
             "#d8576b"
            ],
            [
             0.6666666666666666,
             "#ed7953"
            ],
            [
             0.7777777777777778,
             "#fb9f3a"
            ],
            [
             0.8888888888888888,
             "#fdca26"
            ],
            [
             1,
             "#f0f921"
            ]
           ],
           "sequentialminus": [
            [
             0,
             "#0d0887"
            ],
            [
             0.1111111111111111,
             "#46039f"
            ],
            [
             0.2222222222222222,
             "#7201a8"
            ],
            [
             0.3333333333333333,
             "#9c179e"
            ],
            [
             0.4444444444444444,
             "#bd3786"
            ],
            [
             0.5555555555555556,
             "#d8576b"
            ],
            [
             0.6666666666666666,
             "#ed7953"
            ],
            [
             0.7777777777777778,
             "#fb9f3a"
            ],
            [
             0.8888888888888888,
             "#fdca26"
            ],
            [
             1,
             "#f0f921"
            ]
           ]
          },
          "colorway": [
           "#636efa",
           "#EF553B",
           "#00cc96",
           "#ab63fa",
           "#FFA15A",
           "#19d3f3",
           "#FF6692",
           "#B6E880",
           "#FF97FF",
           "#FECB52"
          ],
          "font": {
           "color": "#2a3f5f"
          },
          "geo": {
           "bgcolor": "white",
           "lakecolor": "white",
           "landcolor": "white",
           "showlakes": true,
           "showland": true,
           "subunitcolor": "#C8D4E3"
          },
          "hoverlabel": {
           "align": "left"
          },
          "hovermode": "closest",
          "mapbox": {
           "style": "light"
          },
          "paper_bgcolor": "white",
          "plot_bgcolor": "white",
          "polar": {
           "angularaxis": {
            "gridcolor": "#EBF0F8",
            "linecolor": "#EBF0F8",
            "ticks": ""
           },
           "bgcolor": "white",
           "radialaxis": {
            "gridcolor": "#EBF0F8",
            "linecolor": "#EBF0F8",
            "ticks": ""
           }
          },
          "scene": {
           "xaxis": {
            "backgroundcolor": "white",
            "gridcolor": "#DFE8F3",
            "gridwidth": 2,
            "linecolor": "#EBF0F8",
            "showbackground": true,
            "ticks": "",
            "zerolinecolor": "#EBF0F8"
           },
           "yaxis": {
            "backgroundcolor": "white",
            "gridcolor": "#DFE8F3",
            "gridwidth": 2,
            "linecolor": "#EBF0F8",
            "showbackground": true,
            "ticks": "",
            "zerolinecolor": "#EBF0F8"
           },
           "zaxis": {
            "backgroundcolor": "white",
            "gridcolor": "#DFE8F3",
            "gridwidth": 2,
            "linecolor": "#EBF0F8",
            "showbackground": true,
            "ticks": "",
            "zerolinecolor": "#EBF0F8"
           }
          },
          "shapedefaults": {
           "line": {
            "color": "#2a3f5f"
           }
          },
          "ternary": {
           "aaxis": {
            "gridcolor": "#DFE8F3",
            "linecolor": "#A2B1C6",
            "ticks": ""
           },
           "baxis": {
            "gridcolor": "#DFE8F3",
            "linecolor": "#A2B1C6",
            "ticks": ""
           },
           "bgcolor": "white",
           "caxis": {
            "gridcolor": "#DFE8F3",
            "linecolor": "#A2B1C6",
            "ticks": ""
           }
          },
          "title": {
           "x": 0.05
          },
          "xaxis": {
           "automargin": true,
           "gridcolor": "#EBF0F8",
           "linecolor": "#EBF0F8",
           "ticks": "",
           "title": {
            "standoff": 15
           },
           "zerolinecolor": "#EBF0F8",
           "zerolinewidth": 2
          },
          "yaxis": {
           "automargin": true,
           "gridcolor": "#EBF0F8",
           "linecolor": "#EBF0F8",
           "ticks": "",
           "title": {
            "standoff": 15
           },
           "zerolinecolor": "#EBF0F8",
           "zerolinewidth": 2
          }
         }
        },
        "title": {
         "text": "STS 光譜 @ 座標 (30, 30)"
        },
        "width": 800,
        "xaxis": {
         "anchor": "y",
         "domain": [
          0,
          0.94
         ],
         "title": {
          "text": "Bias Voltage (V)"
         }
        },
        "yaxis": {
         "anchor": "x",
         "domain": [
          0,
          1
         ],
         "title": {
          "font": {
           "color": "blue"
          },
          "text": "Current (A)"
         }
        },
        "yaxis2": {
         "anchor": "x",
         "overlaying": "y",
         "side": "right",
         "title": {
          "font": {
           "color": "red"
          },
          "text": "Conductance (S)"
         }
        }
       }
      }
     },
     "metadata": {},
     "output_type": "display_data"
    },
    {
     "name": "stdout",
     "output_type": "stream",
     "text": [
      "✅ 單點 STS 光譜繪製完成\n"
     ]
    }
   ],
   "source": [
    "# 繪製單點 STS 光譜 / Plot single point STS spectrum\n",
    "print(\"🎨 繪製單點 STS 光譜...\")\n",
    "try:\n",
    "    fig_point = SpectroscopyPlotting.plot_sts_spectrum(\n",
    "        bias_values=point_data['bias_values'],\n",
    "        current=point_data['current'],\n",
    "        conductance=point_data['conductance'],\n",
    "        title=f\"STS 光譜 @ 座標 ({POINT_X}, {POINT_Y})\",\n",
    "        show_conductance=True,\n",
    "        width=800,\n",
    "        height=500\n",
    "    )\n",
    "    \n",
    "    fig_point.show()\n",
    "    print(\"✅ 單點 STS 光譜繪製完成\")\n",
    "    \n",
    "except Exception as e:\n",
    "    print(f\"❌ 單點 STS 光譜繪製失敗: {e}\")\n",
    "    raise"
   ]
  },
  {
   "cell_type": "markdown",
   "metadata": {},
   "source": [
    "## 總結 / Summary\n",
    "\n",
    "**工作流程完成！/ Workflow Complete!**\n",
    "\n",
    "✅ **已完成的分析 / Completed Analysis:**\n",
    "1. CITS 偏壓切片顯示 / CITS bias slice display\n",
    "2. 線剖面能帶圖 / Line profile band diagram  \n",
    "3. 堆疊光譜圖 / Stacked spectra plot\n",
    "4. 單點 STS 光譜 / Single point STS spectrum\n",
    "\n",
    "**主要特點 / Key Features:**\n",
    "- 🔧 **函式庫導向**: 使用標準化的分析和繪圖函數 / Library-oriented: Using standardized analysis and plotting functions\n",
    "- 🎯 **最少自定義程式碼**: 專注於數據分析而非程式實作 / Minimal custom code: Focus on data analysis rather than implementation\n",
    "- 📊 **完整視覺化**: 包含所有主要的 CITS 分析圖表 / Complete visualization: Including all major CITS analysis plots\n",
    "- ⚙️ **參數化設計**: 易於調整和重複使用 / Parameterized design: Easy to adjust and reuse\n",
    "\n",
    "**調整參數以測試不同條件 / Adjust parameters to test different conditions:**\n",
    "- 修改 `BIAS_INDEX` 查看不同偏壓的切片 / Modify `BIAS_INDEX` to view slices at different biases\n",
    "- 改變 `LINE_START` 和 `LINE_END` 分析不同的線剖面 / Change `LINE_START` and `LINE_END` to analyze different line profiles\n",
    "- 調整 `OFFSET_FACTOR` 改變堆疊光譜的分離度 / Adjust `OFFSET_FACTOR` to change stacked spectra separation"
   ]
  }
 ],
 "metadata": {
  "kernelspec": {
   "display_name": "keen",
   "language": "python",
   "name": "python3"
  },
  "language_info": {
   "codemirror_mode": {
    "name": "ipython",
    "version": 3
   },
   "file_extension": ".py",
   "mimetype": "text/x-python",
   "name": "python",
   "nbconvert_exporter": "python",
   "pygments_lexer": "ipython3",
   "version": "3.13.3"
  }
 },
 "nbformat": 4,
 "nbformat_minor": 4
}
