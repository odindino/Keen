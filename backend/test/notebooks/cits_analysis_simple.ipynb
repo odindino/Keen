{
 "cells": [
  {
   "cell_type": "markdown",
   "metadata": {},
   "source": [
    "# CITS 影像分析與能帶/能譜圖測試 (簡化版) / CITS Image Analysis with Band/Spectrum Testing (Simplified)\n",
    "\n",
    "**作者 / Author**: Odindino  \n",
    "**測試目標**:\n",
    "\n",
    "1. 📂 載入 CITS 檔案\n",
    "2. 🎛️ 查看不同偏壓切片\n",
    "3. 📍 選擇點位生成能譜圖 (Energy Spectrum)\n",
    "4. 📈 拉線生成能帶圖 (Band Profile)\n",
    "5. 🧮 計算和顯示 dI/dV 圖\n",
    "\n",
    "**使用方式**: 直接修改程式碼中的設定，執行 cell 來測試"
   ]
  },
  {
   "cell_type": "markdown",
   "metadata": {},
   "source": [
    "## 📦 模組載入 / Module Loading"
   ]
  },
  {
   "cell_type": "code",
   "execution_count": 4,
   "metadata": {},
   "outputs": [
    {
     "data": {
      "text/html": [
       "        <script type=\"text/javascript\">\n",
       "        window.PlotlyConfig = {MathJaxConfig: 'local'};\n",
       "        if (window.MathJax && window.MathJax.Hub && window.MathJax.Hub.Config) {window.MathJax.Hub.Config({SVG: {font: \"STIX-Web\"}});}\n",
       "        </script>\n",
       "        <script type=\"module\">import \"https://cdn.plot.ly/plotly-3.0.1.min\"</script>\n",
       "        "
      ]
     },
     "metadata": {},
     "output_type": "display_data"
    },
    {
     "name": "stdout",
     "output_type": "stream",
     "text": [
      "✅ 模組載入完成\n",
      "📂 工作目錄: /Users/yangziliang/Git-Projects/keen/backend/test/notebooks\n",
      "🐍 後端路徑: /Users/yangziliang/Git-Projects/keen/backend\n"
     ]
    }
   ],
   "source": [
    "import sys\n",
    "import os\n",
    "import numpy as np\n",
    "import plotly.graph_objects as go\n",
    "from plotly.subplots import make_subplots\n",
    "import plotly.offline as pyo\n",
    "import plotly.io as pio\n",
    "\n",
    "# 設置 Plotly\n",
    "pyo.init_notebook_mode(connected=True)\n",
    "pio.renderers.default = \"notebook\"\n",
    "\n",
    "# 添加後端路徑\n",
    "backend_path = os.path.abspath(os.path.join(os.getcwd(), '../..'))\n",
    "if backend_path not in sys.path:\n",
    "    sys.path.insert(0, backend_path)\n",
    "\n",
    "# 導入 KEEN 模組\n",
    "from core.experiment_session import ExperimentSession\n",
    "\n",
    "print(\"✅ 模組載入完成\")\n",
    "print(f\"📂 工作目錄: {os.getcwd()}\")\n",
    "print(f\"🐍 後端路徑: {backend_path}\")"
   ]
  },
  {
   "cell_type": "markdown",
   "metadata": {},
   "source": [
    "## ⚙️ 設定區域 / Configuration Area\n",
    "\n",
    "### 🔧 在這裡修改您的設定 / Modify your settings here"
   ]
  },
  {
   "cell_type": "code",
   "execution_count": 5,
   "metadata": {},
   "outputs": [
    {
     "name": "stdout",
     "output_type": "stream",
     "text": [
      "🔧 當前設定 / Current Settings:\n",
      "📂 TXT 檔案: ../../../testfile/20250521_Janus Stacking SiO2_13K_113.txt\n",
      "🎛️ 偏壓索引: 50\n",
      "📍 點能譜座標: (50, 50)\n",
      "📈 能帶剖面: (25, 10) → (75, 90)\n",
      "🧮 dI/dV 偏壓索引: 50\n",
      "\n",
      "📁 TXT 檔案存在: True\n"
     ]
    }
   ],
   "source": [
    "# ============================================================================\n",
    "# 📝 請在這裡修改您的設定 / MODIFY YOUR SETTINGS HERE\n",
    "# ============================================================================\n",
    "\n",
    "# 📂 檔案路徑設定 / File Path Settings\n",
    "TXT_FILE_PATH = '../../../testfile/20250521_Janus Stacking SiO2_13K_113.txt'\n",
    "\n",
    "# 🎛️ 偏壓設定 / Bias Settings\n",
    "BIAS_INDEX = 50  # 👈 在這裡修改要顯示的偏壓索引 (0 開始)\n",
    "\n",
    "# 📍 單點能譜座標設定 / Point Spectrum Coordinates\n",
    "POINT_X = 50    # 👈 點能譜 X 座標\n",
    "POINT_Y = 50    # 👈 點能譜 Y 座標\n",
    "\n",
    "# 📈 能帶剖面線設定 / Band Profile Line Settings\n",
    "# 格式: (y, x) - 注意是 y 在前!\n",
    "LINE_START = (25, 10)   # 👈 起點座標 (y, x)\n",
    "LINE_END = (75, 90)     # 👈 終點座標 (y, x)\n",
    "\n",
    "# 🧮 dI/dV 計算設定 / dI/dV Calculation Settings\n",
    "DIDV_BIAS_INDEX = 50    # 👈 要顯示 dI/dV 的偏壓索引\n",
    "\n",
    "# ============================================================================\n",
    "# 📋 設定檢查 / Settings Check\n",
    "# ============================================================================\n",
    "\n",
    "print(\"🔧 當前設定 / Current Settings:\")\n",
    "print(f\"📂 TXT 檔案: {TXT_FILE_PATH}\")\n",
    "print(f\"🎛️ 偏壓索引: {BIAS_INDEX}\")\n",
    "print(f\"📍 點能譜座標: ({POINT_X}, {POINT_Y})\")\n",
    "print(f\"📈 能帶剖面: {LINE_START} → {LINE_END}\")\n",
    "print(f\"🧮 dI/dV 偏壓索引: {DIDV_BIAS_INDEX}\")\n",
    "print()\n",
    "print(f\"📁 TXT 檔案存在: {os.path.exists(TXT_FILE_PATH)}\")\n",
    "\n",
    "# 全局變數初始化\n",
    "session = None\n",
    "cits_data = None"
   ]
  },
  {
   "cell_type": "markdown",
   "metadata": {},
   "source": [
    "## 📂 步驟 1: 載入檔案 / Step 1: Load Files"
   ]
  },
  {
   "cell_type": "code",
   "execution_count": 6,
   "metadata": {},
   "outputs": [
    {
     "name": "stdout",
     "output_type": "stream",
     "text": [
      "📂 開始載入檔案...\n",
      "✅ 實驗載入成功: Unknown\n",
      "\n",
      "📋 可用的 CITS 檔案: ['20250521_Janus Stacking SiO2_13K_113It_to_PC_Matrix', '20250521_Janus Stacking SiO2_13K_113Lia1R_Matrix', '20250521_Janus Stacking SiO2_13K_113Lia1Y_Matrix', '20250521_Janus Stacking SiO2_13K_113Lia2R_Matrix']\n",
      "\n",
      "🔄 載入 CITS 檔案: 20250521_Janus Stacking SiO2_13K_113It_to_PC_Matrix\n",
      "✅ CITS 檔案載入成功\n",
      "❌ 載入失敗: 'CitsData' object has no attribute 'cits_data'\n",
      "Traceback (most recent call last):\n",
      "  File \"/var/folders/s8/x7qjkqzs44lg2tdb36y2xh680000gn/T/ipykernel_98477/130811388.py\", line 29, in load_cits_files\n",
      "    print(f\"📊 資料形狀: {cits_data.cits_data.shape} (height, width, bias)\")\n",
      "                          ^^^^^^^^^^^^^^^^^^^\n",
      "AttributeError: 'CitsData' object has no attribute 'cits_data'\n",
      "\n",
      "\n",
      "💡 請檢查檔案路徑\n"
     ]
    },
    {
     "name": "stderr",
     "output_type": "stream",
     "text": [
      "/Users/yangziliang/Git-Projects/keen/backend/core/parsers/dat_parser.py:84: DtypeWarning:\n",
      "\n",
      "Columns (0,1,2) have mixed types. Specify dtype option on import or set low_memory=False.\n",
      "\n"
     ]
    }
   ],
   "source": [
    "def load_cits_files():\n",
    "    \"\"\"載入 CITS 檔案\"\"\"\n",
    "    global session, cits_data\n",
    "    \n",
    "    try:\n",
    "        print(\"📂 開始載入檔案...\")\n",
    "        \n",
    "        # 初始化會話\n",
    "        session = ExperimentSession(TXT_FILE_PATH)\n",
    "        print(f\"✅ 實驗載入成功: {session.experiment_name}\")\n",
    "        \n",
    "        # 列出可用的 CITS 檔案\n",
    "        cits_files = session.get_cits_files()\n",
    "        print(f\"\\n📋 可用的 CITS 檔案: {cits_files}\")\n",
    "        \n",
    "        if not cits_files:\n",
    "            print(\"❌ 沒有找到 CITS 檔案\")\n",
    "            return False\n",
    "            \n",
    "        # 載入第一個 CITS 檔案\n",
    "        cits_key = cits_files[0]\n",
    "        print(f\"\\n🔄 載入 CITS 檔案: {cits_key}\")\n",
    "        \n",
    "        cits_proxy = session.get_file(cits_key)\n",
    "        cits_data = cits_proxy.data\n",
    "        \n",
    "        # 顯示 CITS 資訊\n",
    "        print(f\"✅ CITS 檔案載入成功\")\n",
    "        print(f\"📊 資料形狀: {cits_data.cits_data.shape} (height, width, bias)\")\n",
    "        print(f\"📏 掃描範圍: {cits_data.x_range:.1f} × {cits_data.y_range:.1f} nm\")\n",
    "        print(f\"⚡ 偏壓範圍: {cits_data.bias_range[0]:.3f} ~ {cits_data.bias_range[-1]:.3f} V\")\n",
    "        print(f\"⚡ 偏壓點數: {len(cits_data.bias_range)}\")\n",
    "        \n",
    "        return True\n",
    "        \n",
    "    except Exception as e:\n",
    "        print(f\"❌ 載入失敗: {str(e)}\")\n",
    "        import traceback\n",
    "        print(traceback.format_exc())\n",
    "        return False\n",
    "\n",
    "# 執行載入\n",
    "load_success = load_cits_files()\n",
    "if load_success:\n",
    "    print(\"\\n🎉 CITS 檔案載入成功! 繼續下一步。\")\n",
    "    \n",
    "    # 檢查設定的索引是否在範圍內\n",
    "    max_bias_index = len(cits_data.bias_range) - 1\n",
    "    h, w, _ = cits_data.cits_data.shape\n",
    "    \n",
    "    print(f\"\\n📏 資料範圍檢查:\")\n",
    "    print(f\"   偏壓索引範圍: 0 ~ {max_bias_index}\")\n",
    "    print(f\"   座標範圍: X (0 ~ {w-1}), Y (0 ~ {h-1})\")\n",
    "    \n",
    "    # 檢查設定值\n",
    "    if BIAS_INDEX > max_bias_index:\n",
    "        print(f\"⚠️  警告: 偏壓索引 {BIAS_INDEX} 超出範圍，請修改為 0~{max_bias_index}\")\n",
    "    if POINT_X >= w or POINT_Y >= h:\n",
    "        print(f\"⚠️  警告: 點座標 ({POINT_X}, {POINT_Y}) 超出範圍\")\n",
    "    if LINE_START[0] >= h or LINE_START[1] >= w or LINE_END[0] >= h or LINE_END[1] >= w:\n",
    "        print(f\"⚠️  警告: 線座標超出範圍\")\n",
    "        \n",
    "else:\n",
    "    print(\"\\n💡 請檢查檔案路徑\")"
   ]
  },
  {
   "cell_type": "markdown",
   "metadata": {},
   "source": [
    "## 🎛️ 步驟 2: 顯示偏壓切片 / Step 2: Display Bias Slice"
   ]
  },
  {
   "cell_type": "code",
   "execution_count": null,
   "metadata": {},
   "outputs": [],
   "source": [
    "def display_bias_slice(bias_index):\n",
    "    \"\"\"顯示指定偏壓的切片\"\"\"\n",
    "    if cits_data is None:\n",
    "        print(\"❌ 請先載入 CITS 檔案\")\n",
    "        return\n",
    "        \n",
    "    try:\n",
    "        # 檢查索引範圍\n",
    "        max_index = len(cits_data.bias_range) - 1\n",
    "        if bias_index > max_index:\n",
    "            print(f\"❌ 偏壓索引 {bias_index} 超出範圍 (0~{max_index})\")\n",
    "            return\n",
    "            \n",
    "        # 獲取切片數據\n",
    "        slice_data = cits_data.cits_data[:, :, bias_index]\n",
    "        bias_value = cits_data.bias_range[bias_index]\n",
    "        \n",
    "        # 創建圖表\n",
    "        fig = go.Figure()\n",
    "        \n",
    "        # 添加熱圖\n",
    "        fig.add_trace(go.Heatmap(\n",
    "            z=slice_data,\n",
    "            colorscale='RdBu_r',\n",
    "            colorbar=dict(title='Current (pA)'),\n",
    "            hovertemplate='X: %{x}<br>Y: %{y}<br>Current: %{z:.3f} pA<extra></extra>'\n",
    "        ))\n",
    "        \n",
    "        fig.update_layout(\n",
    "            title=f'CITS 偏壓切片 @ {bias_value:.3f} V (Index: {bias_index})',\n",
    "            xaxis_title='X (pixels)',\n",
    "            yaxis_title='Y (pixels)',\n",
    "            width=600,\n",
    "            height=600,\n",
    "            yaxis=dict(scaleanchor=\"x\", scaleratio=1)\n",
    "        )\n",
    "        \n",
    "        fig.show()\n",
    "        \n",
    "        # 顯示統計\n",
    "        print(f\"\\n📊 切片統計 (@ {bias_value:.3f} V):\")\n",
    "        print(f\"   電流範圍: {np.min(slice_data):.3f} ~ {np.max(slice_data):.3f} pA\")\n",
    "        print(f\"   平均電流: {np.mean(slice_data):.3f} pA\")\n",
    "        print(f\"   標準差: {np.std(slice_data):.3f} pA\")\n",
    "        \n",
    "    except Exception as e:\n",
    "        print(f\"❌ 顯示失敗: {str(e)}\")\n",
    "\n",
    "# 顯示指定的偏壓切片\n",
    "if load_success:\n",
    "    print(f\"🎛️ 顯示偏壓切片 (索引: {BIAS_INDEX}):\")\n",
    "    display_bias_slice(BIAS_INDEX)\n",
    "else:\n",
    "    print(\"⚠️ 請先成功載入 CITS 檔案\")"
   ]
  },
  {
   "cell_type": "markdown",
   "metadata": {},
   "source": [
    "## 📋 測試總結 / Test Summary"
   ]
  },
  {
   "cell_type": "code",
   "execution_count": null,
   "metadata": {},
   "outputs": [],
   "source": [
    "print(\"📋 CITS 分析測試總結\")\n",
    "print(\"=\" * 50)\n",
    "\n",
    "if load_success and cits_data is not None:\n",
    "    print(f\"✅ CITS 檔案載入成功\")\n",
    "    print(f\"📊 資料維度: {cits_data.cits_data.shape}\")\n",
    "    print(f\"⚡ 偏壓範圍: {cits_data.bias_range[0]:.3f} ~ {cits_data.bias_range[-1]:.3f} V\")\n",
    "    print(f\"📏 空間範圍: {cits_data.x_range:.1f} × {cits_data.y_range:.1f} nm\")\n",
    "    print()\n",
    "    print(\"🔧 可用功能 (可在新 cell 中測試):\")\n",
    "    print(\"   1. 修改 BIAS_INDEX 並重新執行步驟 2\")\n",
    "    print(\"   2. 添加點能譜分析功能\")\n",
    "    print(\"   3. 添加能帶剖面分析功能\")\n",
    "    print(\"   4. 添加 dI/dV 計算功能\")\n",
    "else:\n",
    "    print(\"❌ CITS 檔案載入失敗\")\n",
    "    \n",
    "print(\"\\n💡 使用提示:\")\n",
    "print(\"1. 修改設定區域的參數後重新執行對應的 cell\")\n",
    "print(\"2. 如需添加更多功能，可參考完整版筆記本\")\n",
    "print(\"3. 所有座標使用像素單位 (0 開始)\")"
   ]
  }
 ],
 "metadata": {
  "kernelspec": {
   "display_name": "keen",
   "language": "python",
   "name": "python3"
  },
  "language_info": {
   "codemirror_mode": {
    "name": "ipython",
    "version": 3
   },
   "file_extension": ".py",
   "mimetype": "text/x-python",
   "name": "python",
   "nbconvert_exporter": "python",
   "pygments_lexer": "ipython3",
   "version": "3.13.3"
  }
 },
 "nbformat": 4,
 "nbformat_minor": 4
}
