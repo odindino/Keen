{
 "cells": [
  {
   "cell_type": "markdown",
   "id": "f2f0a697",
   "metadata": {},
   "source": [
    "# IV Data Process Functions Test"
   ]
  },
  {
   "cell_type": "markdown",
   "id": "970824ee",
   "metadata": {},
   "source": [
    "This program is used to test some functions for IV data process"
   ]
  },
  {
   "cell_type": "markdown",
   "id": "50d784b0",
   "metadata": {},
   "source": [
    "# 1. Loading Packages"
   ]
  },
  {
   "cell_type": "code",
   "execution_count": null,
   "id": "81b91974",
   "metadata": {},
   "outputs": [],
   "source": [
    "import numpy as np\n",
    "\n",
    "# 使用plotly來繪圖\n",
    "import plotly.graph_objects as go\n"
   ]
  },
  {
   "cell_type": "code",
   "execution_count": null,
   "id": "abdcb97b",
   "metadata": {},
   "outputs": [],
   "source": [
    "# 先產生四種數據，代表的是不同掃描偏壓forward和backward的configuration\n",
    "# 偏壓範圍 -2V到2V, 總共401個點\n",
    "\n",
    "# 1. 只有forward掃描的數據\n",
    "forward_bias = np.linspace(-2, 2, 401)\n",
    "\n",
    "# 2. 來回掃描的數據\n",
    "backward_bias = np.concatenate((np.linspace(-2, 2, 201), np.linspace(2, -2, 200)))\n",
    "\n",
    "# 連續3個forward掃描的數據\n",
    "forward_bias_3 = np.linspace(-2, 2, 401)\n",
    "\n",
    "# 連續3個來回掃描的數據\n",
    "forward_backward_bias = np.concatenate((np.linspace(-2, 2, 201), np.linspace(2, -2, 200)))"
   ]
  }
 ],
 "metadata": {
  "language_info": {
   "name": "python"
  }
 },
 "nbformat": 4,
 "nbformat_minor": 5
}
