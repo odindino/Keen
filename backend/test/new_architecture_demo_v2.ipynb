{
 "cells": [
  {
   "cell_type": "markdown",
   "metadata": {},
   "source": [
    "# 新架構示範 V2 / New Architecture Demo V2\n",
    "\n",
    "展示 KEEN 新架構的使用方式，包含 IDE 友好的介面和直覺的資料存取  \n",
    "Demonstrates the usage of KEEN's new architecture with IDE-friendly interface and intuitive data access\n",
    "\n",
    "---\n",
    "\n",
    "## 🚀 主要改進 / Key Improvements\n",
    "\n",
    "✅ **IDE 友好的型別提示**：`session['file'].data.attribute`  \n",
    "✅ **完整的狀態管理**：所有分析結果自動持久化  \n",
    "✅ **統一的資料格式**：標準化的 `ParseResult` 和資料模型  \n",
    "✅ **清晰的職責分離**：型別管理器模式  \n",
    "✅ **正確的 Scale 處理**：從 TXT 檔案獲取正確的數值 scale"
   ]
  },
  {
   "cell_type": "markdown",
   "metadata": {},
   "source": [
    "## 1️⃣ 環境設定 / Environment Setup"
   ]
  },
  {
   "cell_type": "code",
   "execution_count": 1,
   "metadata": {},
   "outputs": [
    {
     "name": "stdout",
     "output_type": "stream",
     "text": [
      "💻 當前工作目錄: /Users/yangziliang/Git-Projects/keen/backend/test\n",
      "💻 後端路徑: /Users/yangziliang/Git-Projects/keen/backend\n"
     ]
    }
   ],
   "source": [
    "import sys\n",
    "from pathlib import Path\n",
    "\n",
    "# 添加後端路徑到 Python 路徑 / Add backend path to Python path\n",
    "backend_path = Path.cwd().parent if Path.cwd().name == 'test' else Path.cwd()\n",
    "sys.path.insert(0, str(backend_path))\n",
    "\n",
    "print(f\"💻 當前工作目錄: {Path.cwd()}\")\n",
    "print(f\"💻 後端路徑: {backend_path}\")"
   ]
  },
  {
   "cell_type": "code",
   "execution_count": 2,
   "metadata": {},
   "outputs": [
    {
     "name": "stdout",
     "output_type": "stream",
     "text": [
      "✅ 新架構模組匯入成功！\n",
      "✅ New architecture modules imported successfully!\n"
     ]
    }
   ],
   "source": [
    "# 匯入新架構的核心模組\n",
    "from core.experiment_session import ExperimentSession\n",
    "from core.data_models import TopoData, CitsData, TxtData\n",
    "\n",
    "print(\"✅ 新架構模組匯入成功！\")\n",
    "print(\"✅ New architecture modules imported successfully!\")"
   ]
  },
  {
   "cell_type": "markdown",
   "metadata": {},
   "source": [
    "## 2️⃣ 檢查測試檔案 / Check Test Files"
   ]
  },
  {
   "cell_type": "code",
   "execution_count": 3,
   "metadata": {},
   "outputs": [
    {
     "name": "stdout",
     "output_type": "stream",
     "text": [
      "📁 測試檔案目錄: /Users/yangziliang/Git-Projects/keen/testfile\n",
      "📁 找到 1 個 TXT 檔案:\n",
      "   1. 20250521_Janus Stacking SiO2_13K_113.txt\n",
      "\n",
      "🎯 將使用: 20250521_Janus Stacking SiO2_13K_113.txt\n"
     ]
    }
   ],
   "source": [
    "# 檢查測試檔案是否存在\n",
    "testfile_dir = backend_path.parent / \"testfile\"\n",
    "txt_files = list(testfile_dir.glob(\"*.txt\"))\n",
    "\n",
    "print(f\"📁 測試檔案目錄: {testfile_dir}\")\n",
    "print(f\"📁 找到 {len(txt_files)} 個 TXT 檔案:\")\n",
    "\n",
    "for i, txt_file in enumerate(txt_files):\n",
    "    print(f\"   {i+1}. {txt_file.name}\")\n",
    "\n",
    "if txt_files:\n",
    "    selected_txt = txt_files[0]\n",
    "    print(f\"\\n🎯 將使用: {selected_txt.name}\")\n",
    "else:\n",
    "    print(\"❌ 未找到測試檔案！請確保 testfile 目錄中有 .txt 檔案\")"
   ]
  },
  {
   "cell_type": "markdown",
   "metadata": {},
   "source": [
    "## 3️⃣ 初始化實驗會話 / Initialize Experiment Session\n",
    "\n",
    "新架構的核心是 `ExperimentSession`，它整合了所有的型別管理器和提供統一的介面。"
   ]
  },
  {
   "cell_type": "code",
   "execution_count": 4,
   "metadata": {},
   "outputs": [
    {
     "name": "stdout",
     "output_type": "stream",
     "text": [
      "🚀 初始化實驗會話...\n",
      "✅ 會話建立成功！\n",
      "📊 實驗名稱: Unknown\n",
      "📊 TXT 檔案: 20250521_Janus Stacking SiO2_13K_113.txt\n",
      "📊 建立時間: 2025-06-07 16:33:10\n"
     ]
    }
   ],
   "source": [
    "# 初始化實驗會話 - 這是新架構的主要入口\n",
    "if txt_files:\n",
    "    print(\"🚀 初始化實驗會話...\")\n",
    "    session = ExperimentSession(str(selected_txt))\n",
    "    \n",
    "    print(f\"✅ 會話建立成功！\")\n",
    "    print(f\"📊 實驗名稱: {session.experiment_name}\")\n",
    "    print(f\"📊 TXT 檔案: {session.txt_file_path.name}\")\n",
    "    print(f\"📊 建立時間: {session.creation_time.strftime('%Y-%m-%d %H:%M:%S')}\")\n",
    "else:\n",
    "    print(\"❌ 無法初始化會話，請檢查測試檔案\")"
   ]
  },
  {
   "cell_type": "markdown",
   "metadata": {},
   "source": [
    "## 4️⃣ 檢視會話摘要 / View Session Summary"
   ]
  },
  {
   "cell_type": "code",
   "execution_count": 5,
   "metadata": {},
   "outputs": [
    {
     "name": "stdout",
     "output_type": "stream",
     "text": [
      "📊 會話摘要 / Session Summary\n",
      "========================================\n",
      "實驗名稱: Unknown\n",
      "總檔案數: 17\n",
      "  - TXT: 1\n",
      "  - TOPO: 12\n",
      "  - CITS: 4\n",
      "  - STS: 0\n",
      "\n",
      "🔬 掃描參數:\n",
      "  - 像素數: 500 × 500\n",
      "  - 掃描範圍: 10.0 × 10.0 nm\n",
      "  - X 像素尺度: 0.0200 nm/pixel\n",
      "  - Y 像素尺度: 0.0200 nm/pixel\n"
     ]
    }
   ],
   "source": [
    "# 顯示會話摘要 - 了解有哪些檔案可用\n",
    "if 'session' in locals():\n",
    "    summary = session.get_session_summary()\n",
    "    files_summary = summary['files_summary']\n",
    "    \n",
    "    print(\"📊 會話摘要 / Session Summary\")\n",
    "    print(\"=\" * 40)\n",
    "    print(f\"實驗名稱: {summary['experiment_name']}\")\n",
    "    print(f\"總檔案數: {files_summary['total_available']}\")\n",
    "    print(f\"  - TXT: {files_summary['available']['txt']}\")\n",
    "    print(f\"  - TOPO: {files_summary['available']['topo']}\")\n",
    "    print(f\"  - CITS: {files_summary['available']['cits']}\")\n",
    "    print(f\"  - STS: {files_summary['available']['sts']}\")\n",
    "    \n",
    "    # 顯示掃描參數\n",
    "    scan_params = summary.get('scan_parameters')\n",
    "    if scan_params:\n",
    "        print(f\"\\n🔬 掃描參數:\")\n",
    "        print(f\"  - 像素數: {scan_params['x_pixel']} × {scan_params['y_pixel']}\")\n",
    "        print(f\"  - 掃描範圍: {scan_params['x_range']:.1f} × {scan_params['y_range']:.1f} nm\")\n",
    "        print(f\"  - X 像素尺度: {scan_params['pixel_scale_x']:.4f} nm/pixel\")\n",
    "        print(f\"  - Y 像素尺度: {scan_params['pixel_scale_y']:.4f} nm/pixel\")"
   ]
  },
  {
   "cell_type": "markdown",
   "metadata": {},
   "source": [
    "## 5️⃣ 新的檔案存取方式 / New File Access Methods\n",
    "\n",
    "### 舊方式 vs 新方式對比\n",
    "\n",
    "**❌ 舊方式 (複雜且容易出錯):**\n",
    "```python\n",
    "data = analyzer.experiment_data['loaded_files']['topofwd']['data']['image_data']\n",
    "scale = analyzer.experiment_data['txt_data']['scan_parameters']['x_range']\n",
    "```\n",
    "\n",
    "**✅ 新方式 (IDE 友好且直覺):**\n",
    "```python\n",
    "topo = session['topofwd']        # FileProxy with full type hints\n",
    "data = topo.data.image           # TopoData.image: np.ndarray\n",
    "scale = topo.data.x_range        # TopoData.x_range: float\n",
    "```"
   ]
  },
  {
   "cell_type": "code",
   "execution_count": 6,
   "metadata": {},
   "outputs": [
    {
     "name": "stdout",
     "output_type": "stream",
     "text": [
      "📋 可用檔案列表 / Available Files:\n",
      "========================================\n",
      "\n",
      "📁 TXT 檔案 (1 個):\n",
      "   1. 20250521_Janus Stacking SiO2_13K_113\n",
      "\n",
      "📁 TOPO 檔案 (12 個):\n",
      "   1. 20250521_Janus Stacking SiO2_13K_113TopoFwd\n",
      "   2. 20250521_Janus Stacking SiO2_13K_113TopoBwd\n",
      "   3. 20250521_Janus Stacking SiO2_13K_113Lia1XFwd\n",
      "   4. 20250521_Janus Stacking SiO2_13K_113Lia1XBwd\n",
      "   5. 20250521_Janus Stacking SiO2_13K_113Lia1YFwd\n",
      "   ... 還有 7 個檔案\n",
      "\n",
      "📁 CITS 檔案 (4 個):\n",
      "   1. 20250521_Janus Stacking SiO2_13K_113It_to_PC_Matrix\n",
      "   2. 20250521_Janus Stacking SiO2_13K_113Lia1R_Matrix\n",
      "   3. 20250521_Janus Stacking SiO2_13K_113Lia1Y_Matrix\n",
      "   4. 20250521_Janus Stacking SiO2_13K_113Lia2R_Matrix\n"
     ]
    }
   ],
   "source": [
    "# 列出可用檔案\n",
    "if 'session' in locals():\n",
    "    available_files = session.available_files\n",
    "    \n",
    "    print(\"📋 可用檔案列表 / Available Files:\")\n",
    "    print(\"=\" * 40)\n",
    "    \n",
    "    for file_type, files in available_files.items():\n",
    "        if files:\n",
    "            print(f\"\\n📁 {file_type.upper()} 檔案 ({len(files)} 個):\")\n",
    "            for i, file_key in enumerate(files[:5]):  # 只顯示前5個\n",
    "                print(f\"   {i+1}. {file_key}\")\n",
    "            if len(files) > 5:\n",
    "                print(f\"   ... 還有 {len(files)-5} 個檔案\")"
   ]
  },
  {
   "cell_type": "markdown",
   "metadata": {},
   "source": [
    "## 6️⃣ 測試拓撲檔案存取 / Test Topography File Access"
   ]
  },
  {
   "cell_type": "code",
   "execution_count": 7,
   "metadata": {},
   "outputs": [
    {
     "name": "stdout",
     "output_type": "stream",
     "text": [
      "🔍 測試檔案: 20250521_Janus Stacking SiO2_13K_113TopoFwd\n",
      "========================================\n",
      "📊 檔案資訊:\n",
      "  - 檔案類型: topo\n",
      "  - 已載入: False\n",
      "  - 檔案大小: 976.6 KB\n",
      "  - 訊號類型: Topo\n",
      "  - 掃描方向: Fwd\n"
     ]
    }
   ],
   "source": [
    "# 選擇一個拓撲檔案進行測試\n",
    "if 'session' in locals() and session.available_files['topo']:\n",
    "    topo_key = session.available_files['topo'][0]\n",
    "    print(f\"🔍 測試檔案: {topo_key}\")\n",
    "    print(\"=\" * 40)\n",
    "    \n",
    "    # 使用新的直覺存取方式\n",
    "    topo = session[topo_key]\n",
    "    \n",
    "    print(f\"📊 檔案資訊:\")\n",
    "    print(f\"  - 檔案類型: {topo.file_type}\")\n",
    "    print(f\"  - 已載入: {topo.is_loaded}\")\n",
    "    \n",
    "    if topo.file_info:\n",
    "        info = topo.file_info\n",
    "        print(f\"  - 檔案大小: {info.human_readable_size}\")\n",
    "        print(f\"  - 訊號類型: {info.signal_type}\")\n",
    "        print(f\"  - 掃描方向: {info.direction}\")\n",
    "else:\n",
    "    print(\"❌ 沒有可用的拓撲檔案\")"
   ]
  },
  {
   "cell_type": "code",
   "execution_count": 8,
   "metadata": {},
   "outputs": [
    {
     "name": "stdout",
     "output_type": "stream",
     "text": [
      "📥 載入拓撲數據...\n",
      "\n",
      "✅ 數據載入成功！\n",
      "📊 拓撲數據資訊:\n",
      "  - 圖像尺寸: (500, 500)\n",
      "  - X 範圍: 10.00 nm\n",
      "  - Y 範圍: 10.00 nm\n",
      "  - X 像素尺度: 0.0200 nm/pixel\n",
      "  - Y 像素尺度: 0.0200 nm/pixel\n",
      "  - 數值 Scale: -2.60913687478663e-07\n",
      "  - 訊號類型: Topo\n",
      "  - 掃描方向: Fwd\n",
      "\n",
      "📈 數據統計:\n",
      "  - 最小值: -93.305322\n",
      "  - 最大值: -91.885328\n",
      "  - 平均值: -92.788010\n",
      "  - 標準差: 0.197238\n"
     ]
    }
   ],
   "source": [
    "# 載入並檢視拓撲數據\n",
    "if 'topo' in locals():\n",
    "    try:\n",
    "        print(\"📥 載入拓撲數據...\")\n",
    "        data = topo.data  # 這會自動觸發載入\n",
    "        \n",
    "        if isinstance(data, TopoData):\n",
    "            print(\"\\n✅ 數據載入成功！\")\n",
    "            print(f\"📊 拓撲數據資訊:\")\n",
    "            print(f\"  - 圖像尺寸: {data.shape}\")\n",
    "            print(f\"  - X 範圍: {data.x_range:.2f} nm\")\n",
    "            print(f\"  - Y 範圍: {data.y_range:.2f} nm\")\n",
    "            print(f\"  - X 像素尺度: {data.pixel_scale_x:.4f} nm/pixel\")\n",
    "            print(f\"  - Y 像素尺度: {data.pixel_scale_y:.4f} nm/pixel\")\n",
    "            print(f\"  - 數值 Scale: {data.data_scale}\")\n",
    "            print(f\"  - 訊號類型: {data.signal_type}\")\n",
    "            print(f\"  - 掃描方向: {data.direction}\")\n",
    "            \n",
    "            # 顯示數據統計\n",
    "            image = data.image\n",
    "            print(f\"\\n📈 數據統計:\")\n",
    "            print(f\"  - 最小值: {image.min():.6f}\")\n",
    "            print(f\"  - 最大值: {image.max():.6f}\")\n",
    "            print(f\"  - 平均值: {image.mean():.6f}\")\n",
    "            print(f\"  - 標準差: {image.std():.6f}\")\n",
    "            \n",
    "    except Exception as e:\n",
    "        print(f\"❌ 載入失敗: {str(e)}\")\n",
    "        import traceback\n",
    "        traceback.print_exc()"
   ]
  },
  {
   "cell_type": "markdown",
   "metadata": {},
   "source": [
    "## 7️⃣ 測試 CITS 檔案存取 / Test CITS File Access"
   ]
  },
  {
   "cell_type": "code",
   "execution_count": 9,
   "metadata": {},
   "outputs": [
    {
     "name": "stdout",
     "output_type": "stream",
     "text": [
      "🔬 測試 CITS 檔案: 20250521_Janus Stacking SiO2_13K_113It_to_PC_Matrix\n",
      "========================================\n",
      "📊 CITS 檔案資訊:\n",
      "  - 檔案類型: cits\n",
      "  - 已載入: False\n",
      "\n",
      "📥 載入 CITS 數據...\n",
      "✅ CITS 數據載入成功！\n",
      "  - 3D 數據形狀: (401, 100, 100)\n",
      "  - 偏壓點數: 401\n",
      "  - 偏壓範圍: -2050.000 ~ 1050.000 V\n",
      "  - 網格大小: [100, 100]\n",
      "  - X 範圍: 100.00 nm\n",
      "  - Y 範圍: 100.00 nm\n"
     ]
    },
    {
     "name": "stderr",
     "output_type": "stream",
     "text": [
      "/Users/yangziliang/Git-Projects/keen/backend/core/parsers/dat_parser.py:84: DtypeWarning: Columns (0,1,2) have mixed types. Specify dtype option on import or set low_memory=False.\n",
      "  df = pd.read_csv(file_path, sep='\\t', header=None)\n"
     ]
    }
   ],
   "source": [
    "# 測試 CITS 檔案（如果有的話）\n",
    "if 'session' in locals() and session.available_files['cits']:\n",
    "    cits_key = session.available_files['cits'][0]\n",
    "    print(f\"🔬 測試 CITS 檔案: {cits_key}\")\n",
    "    print(\"=\" * 40)\n",
    "    \n",
    "    try:\n",
    "        cits = session[cits_key]\n",
    "        print(f\"📊 CITS 檔案資訊:\")\n",
    "        print(f\"  - 檔案類型: {cits.file_type}\")\n",
    "        print(f\"  - 已載入: {cits.is_loaded}\")\n",
    "        \n",
    "        # 載入 CITS 數據\n",
    "        print(\"\\n📥 載入 CITS 數據...\")\n",
    "        cits_data = cits.data\n",
    "        \n",
    "        if isinstance(cits_data, CitsData):\n",
    "            print(\"✅ CITS 數據載入成功！\")\n",
    "            print(f\"  - 3D 數據形狀: {cits_data.shape}\")\n",
    "            print(f\"  - 偏壓點數: {cits_data.n_bias_points}\")\n",
    "            print(f\"  - 偏壓範圍: {cits_data.bias_range[0]:.3f} ~ {cits_data.bias_range[1]:.3f} V\")\n",
    "            print(f\"  - 網格大小: {cits_data.grid_size}\")\n",
    "            print(f\"  - X 範圍: {cits_data.x_range:.2f} nm\")\n",
    "            print(f\"  - Y 範圍: {cits_data.y_range:.2f} nm\")\n",
    "        \n",
    "    except Exception as e:\n",
    "        print(f\"❌ CITS 載入失敗: {str(e)}\")\n",
    "else:\n",
    "    print(\"ℹ️  沒有可用的 CITS 檔案\")"
   ]
  },
  {
   "cell_type": "markdown",
   "metadata": {},
   "source": [
    "## 8️⃣ 分析器功能測試 / Analyzer Features Test"
   ]
  },
  {
   "cell_type": "code",
   "execution_count": 10,
   "metadata": {},
   "outputs": [
    {
     "name": "stdout",
     "output_type": "stream",
     "text": [
      "🔧 測試分析器功能\n",
      "========================================\n",
      "✅ 分析器類型: IntAnalyzer\n",
      "\n",
      "🔧 可用的分析方法:\n",
      "  - topo.flatten_plane()      # 平面平坦化\n",
      "  - topo.extract_profile()    # 提取剖面線\n",
      "  - topo.analyzer             # 獲取完整分析器\n",
      "\n",
      "📋 分析器方法 (25 個):\n",
      "  - analysis_history\n",
      "  - analyze\n",
      "  - apply_flattening\n",
      "  - apply_tilt_correction\n",
      "  - cached_results\n",
      "  - clear_cache\n",
      "  - current_line_profile\n",
      "  - current_topo_data\n",
      "  - detect_features\n",
      "  - extract_line_profile\n",
      "  ... 還有 15 個方法\n"
     ]
    }
   ],
   "source": [
    "# 測試分析器功能\n",
    "if 'topo' in locals():\n",
    "    print(\"🔧 測試分析器功能\")\n",
    "    print(\"=\" * 40)\n",
    "    \n",
    "    try:\n",
    "        # 獲取分析器\n",
    "        analyzer = topo.analyzer\n",
    "        print(f\"✅ 分析器類型: {type(analyzer).__name__}\")\n",
    "        \n",
    "        # 顯示可用的分析方法\n",
    "        print(\"\\n🔧 可用的分析方法:\")\n",
    "        print(\"  - topo.flatten_plane()      # 平面平坦化\")\n",
    "        print(\"  - topo.extract_profile()    # 提取剖面線\")\n",
    "        print(\"  - topo.analyzer             # 獲取完整分析器\")\n",
    "        \n",
    "        # 檢查分析器是否有常用方法\n",
    "        methods = [attr for attr in dir(analyzer) if not attr.startswith('_')]\n",
    "        print(f\"\\n📋 分析器方法 ({len(methods)} 個):\")\n",
    "        for method in methods[:10]:  # 只顯示前10個\n",
    "            print(f\"  - {method}\")\n",
    "        if len(methods) > 10:\n",
    "            print(f\"  ... 還有 {len(methods)-10} 個方法\")\n",
    "        \n",
    "    except Exception as e:\n",
    "        print(f\"❌ 分析器測試失敗: {str(e)}\")\n",
    "else:\n",
    "    print(\"❌ 沒有可用的拓撲檔案進行分析器測試\")"
   ]
  },
  {
   "cell_type": "markdown",
   "metadata": {},
   "source": [
    "## 9️⃣ 批次操作和搜尋功能 / Batch Operations and Search Features"
   ]
  },
  {
   "cell_type": "code",
   "execution_count": 11,
   "metadata": {},
   "outputs": [
    {
     "name": "stdout",
     "output_type": "stream",
     "text": [
      "📁 批次操作和搜尋功能測試\n",
      "========================================\n",
      "📂 拓撲檔案 (12 個):\n",
      "  1. 20250521_Janus Stacking SiO2_13K_113TopoFwd (Topo Fwd) - 976.6 KB\n",
      "  2. 20250521_Janus Stacking SiO2_13K_113TopoBwd (Topo Bwd) - 976.6 KB\n",
      "  3. 20250521_Janus Stacking SiO2_13K_113Lia1XFwd (Lia1X Fwd) - 976.6 KB\n",
      "  4. 20250521_Janus Stacking SiO2_13K_113Lia1XBwd (Lia1X Bwd) - 976.6 KB\n",
      "  5. 20250521_Janus Stacking SiO2_13K_113Lia1YFwd (Lia1Y Fwd) - 976.6 KB\n",
      "  ... 還有 7 個檔案\n",
      "\n",
      "🔍 搜尋功能測試:\n",
      "  - Topo 訊號檔案: 2 個\n",
      "  - 正向掃描檔案: 6 個\n",
      "  - 反向掃描檔案: 6 個\n"
     ]
    }
   ],
   "source": [
    "# 測試批次操作和搜尋功能\n",
    "if 'session' in locals():\n",
    "    print(\"📁 批次操作和搜尋功能測試\")\n",
    "    print(\"=\" * 40)\n",
    "    \n",
    "    # 獲取所有拓撲檔案\n",
    "    topo_files = session.get_topo_files()\n",
    "    print(f\"📂 拓撲檔案 ({len(topo_files)} 個):\")\n",
    "    for i, file_key in enumerate(topo_files[:5]):\n",
    "        file_proxy = session[file_key]\n",
    "        info = file_proxy.file_info\n",
    "        signal_type = info.signal_type if info else \"Unknown\"\n",
    "        direction = info.direction if info else \"\"\n",
    "        size = info.human_readable_size if info else \"Unknown\"\n",
    "        print(f\"  {i+1}. {file_key} ({signal_type} {direction}) - {size}\")\n",
    "    \n",
    "    if len(topo_files) > 5:\n",
    "        print(f\"  ... 還有 {len(topo_files)-5} 個檔案\")\n",
    "    \n",
    "    # 根據訊號類型搜尋\n",
    "    print(\"\\n🔍 搜尋功能測試:\")\n",
    "    topo_signal_files = session.find_files_by_signal_type(\"Topo\")\n",
    "    print(f\"  - Topo 訊號檔案: {len(topo_signal_files)} 個\")\n",
    "    \n",
    "    # 根據方向搜尋\n",
    "    fwd_files = session.find_files_by_direction(\"Fwd\")\n",
    "    bwd_files = session.find_files_by_direction(\"Bwd\")\n",
    "    print(f\"  - 正向掃描檔案: {len(fwd_files)} 個\")\n",
    "    print(f\"  - 反向掃描檔案: {len(bwd_files)} 個\")"
   ]
  },
  {
   "cell_type": "markdown",
   "metadata": {},
   "source": [
    "## 🔟 記憶體使用資訊 / Memory Usage Information"
   ]
  },
  {
   "cell_type": "code",
   "execution_count": 12,
   "metadata": {},
   "outputs": [
    {
     "name": "stdout",
     "output_type": "stream",
     "text": [
      "💾 記憶體使用資訊\n",
      "========================================\n",
      "📊 整體狀況:\n",
      "  - 總檔案數: 17\n",
      "  - 已載入檔案: 3\n",
      "  - 檔案代理快取: 6 個\n",
      "\n",
      "📈 各管理器快取狀況:\n",
      "  - txt_cache: 1 個 (命中率: 80.0%)\n",
      "  - topo_cache: 1 個 (命中率: 0.0%)\n",
      "  - cits_cache: 1 個 (命中率: 0.0%)\n",
      "  - sts_cache: 0 個 (命中率: 0.0%)\n",
      "\n",
      "📂 已載入檔案詳情:\n",
      "  - TXT: ['20250521_Janus Stacking SiO2_13K_113']\n",
      "  - TOPO: ['20250521_Janus Stacking SiO2_13K_113TopoFwd']\n",
      "  - CITS: ['20250521_Janus Stacking SiO2_13K_113It_to_PC_Matrix']\n"
     ]
    }
   ],
   "source": [
    "# 檢視記憶體使用資訊\n",
    "if 'session' in locals():\n",
    "    print(\"💾 記憶體使用資訊\")\n",
    "    print(\"=\" * 40)\n",
    "    \n",
    "    memory_info = session.get_memory_info()\n",
    "    \n",
    "    print(f\"📊 整體狀況:\")\n",
    "    print(f\"  - 總檔案數: {memory_info['total_files']}\")\n",
    "    print(f\"  - 已載入檔案: {memory_info['total_loaded']}\")\n",
    "    print(f\"  - 檔案代理快取: {memory_info['proxy_cache_size']} 個\")\n",
    "    \n",
    "    print(f\"\\n📈 各管理器快取狀況:\")\n",
    "    for manager_name, cache_info in memory_info.items():\n",
    "        if isinstance(cache_info, dict) and 'cache_size' in cache_info:\n",
    "            hit_rate = cache_info.get('hit_rate', 0) * 100\n",
    "            print(f\"  - {manager_name}: {cache_info['cache_size']} 個 (命中率: {hit_rate:.1f}%)\")\n",
    "    \n",
    "    # 顯示已載入檔案\n",
    "    loaded_files = session.loaded_files\n",
    "    total_loaded = sum(len(files) for files in loaded_files.values())\n",
    "    if total_loaded > 0:\n",
    "        print(f\"\\n📂 已載入檔案詳情:\")\n",
    "        for file_type, files in loaded_files.items():\n",
    "            if files:\n",
    "                print(f\"  - {file_type.upper()}: {files}\")"
   ]
  },
  {
   "cell_type": "markdown",
   "metadata": {},
   "source": [
    "## 1️⃣1️⃣ 新舊架構完整對比 / Complete Old vs New Architecture Comparison"
   ]
  },
  {
   "cell_type": "markdown",
   "metadata": {},
   "source": [
    "### 🔄 程式碼對比 / Code Comparison\n",
    "\n",
    "#### 📋 **舊架構存取方式 / Old Architecture Access:**\n",
    "\n",
    "```python\n",
    "# ❌ 複雜的字典式存取，無 IDE 支援\n",
    "analyzer = MainAnalyzer()\n",
    "result = analyzer.load_experiment('experiment.txt')\n",
    "data = analyzer.experiment_data['loaded_files']['topofwd']['data']['image_data']\n",
    "scale = analyzer.experiment_data['txt_data']['scan_parameters']['x_range']\n",
    "\n",
    "# 需要手動管理狀態\n",
    "# 容易拼寫錯誤\n",
    "# 沒有型別提示\n",
    "# 狀態可能遺失\n",
    "```\n",
    "\n",
    "#### ✨ **新架構存取方式 / New Architecture Access:**\n",
    "\n",
    "```python\n",
    "# ✅ 直覺的屬性存取，完整 IDE 支援\n",
    "session = ExperimentSession('experiment.txt')\n",
    "topo = session['topofwd']           # FileProxy with full type hints\n",
    "data = topo.data.image              # TopoData.image: np.ndarray\n",
    "scale = topo.data.x_range           # TopoData.x_range: float\n",
    "\n",
    "# 自動狀態管理\n",
    "# 型別安全\n",
    "# IDE 自動完成\n",
    "# 統一錯誤處理\n",
    "# 正確的 scale 處理\n",
    "```"
   ]
  },
  {
   "cell_type": "markdown",
   "metadata": {},
   "source": [
    "## 1️⃣2️⃣ 總結與下一步 / Summary and Next Steps"
   ]
  },
  {
   "cell_type": "code",
   "execution_count": 13,
   "metadata": {},
   "outputs": [
    {
     "name": "stdout",
     "output_type": "stream",
     "text": [
      "✨ 新架構優勢總結 / New Architecture Advantages\n",
      "============================================================\n",
      "✅ IDE 友好的型別提示 - 完整的自動完成和錯誤檢查\n",
      "✅ 直覺的屬性存取 - session['file'].data.attribute\n",
      "✅ 完整的狀態管理 - 所有分析結果自動持久化\n",
      "✅ 統一的資料格式 - 標準化的 ParseResult 和錯誤處理\n",
      "✅ 清晰的職責分離 - 型別管理器模式\n",
      "✅ 正確的 Scale 處理 - 從 TXT 檔案獲取正確的數值 scale\n",
      "✅ 智能快取管理 - 自動最佳化記憶體使用\n",
      "✅ 批次操作支援 - 高效的多檔案處理\n",
      "✅ 強大的搜尋功能 - 根據訊號類型和方向快速定位檔案\n",
      "\n",
      "🚀 建議的下一步:\n",
      "1. 根據您的具體需求測試各種檔案類型\n",
      "2. 嘗試使用分析器進行實際的數據處理\n",
      "3. 探索批次處理功能來處理多個檔案\n",
      "4. 使用搜尋功能來快速定位特定類型的檔案\n",
      "5. 如有問題，參考 docs/migration_guide_v2.md\n"
     ]
    }
   ],
   "source": [
    "# 最終總結\n",
    "print(\"✨ 新架構優勢總結 / New Architecture Advantages\")\n",
    "print(\"=\" * 60)\n",
    "print(\"✅ IDE 友好的型別提示 - 完整的自動完成和錯誤檢查\")\n",
    "print(\"✅ 直覺的屬性存取 - session['file'].data.attribute\")\n",
    "print(\"✅ 完整的狀態管理 - 所有分析結果自動持久化\")\n",
    "print(\"✅ 統一的資料格式 - 標準化的 ParseResult 和錯誤處理\")\n",
    "print(\"✅ 清晰的職責分離 - 型別管理器模式\")\n",
    "print(\"✅ 正確的 Scale 處理 - 從 TXT 檔案獲取正確的數值 scale\")\n",
    "print(\"✅ 智能快取管理 - 自動最佳化記憶體使用\")\n",
    "print(\"✅ 批次操作支援 - 高效的多檔案處理\")\n",
    "print(\"✅ 強大的搜尋功能 - 根據訊號類型和方向快速定位檔案\")\n",
    "\n",
    "print(\"\\n🚀 建議的下一步:\")\n",
    "print(\"1. 根據您的具體需求測試各種檔案類型\")\n",
    "print(\"2. 嘗試使用分析器進行實際的數據處理\")\n",
    "print(\"3. 探索批次處理功能來處理多個檔案\")\n",
    "print(\"4. 使用搜尋功能來快速定位特定類型的檔案\")\n",
    "print(\"5. 如有問題，參考 docs/migration_guide_v2.md\")"
   ]
  },
  {
   "cell_type": "markdown",
   "metadata": {},
   "source": [
    "---\n",
    "\n",
    "## 📝 實驗區域 / Experimental Section\n",
    "\n",
    "您可以在下面的 cell 中自由測試新架構的各種功能："
   ]
  },
  {
   "cell_type": "code",
   "execution_count": null,
   "metadata": {},
   "outputs": [],
   "source": [
    "# 🧪 自由實驗區域 - 在這裡測試任何您想要的功能\n",
    "# 🧪 Free experimental area - test any features you want here\n",
    "\n",
    "if 'session' in locals():\n",
    "    print(\"🧪 實驗環境已準備就緒！\")\n",
    "    print(f\"📋 可用檔案: {sum(len(files) for files in session.available_files.values())} 個\")\n",
    "    \n",
    "    # 例子 1: 測試檔案快速存取\n",
    "    if session.available_files['topo']:\n",
    "        first_topo = session[session.available_files['topo'][0]]\n",
    "        print(f\"📊 快速存取測試: {first_topo}\")\n",
    "    \n",
    "    # 例子 2: 測試記憶體管理\n",
    "    print(f\"💾 目前記憶體狀態: {session.get_memory_info()['total_loaded']} 個檔案已載入\")\n",
    "    \n",
    "    # 例子 3: 測試 Scale 修正 - 顯示正確的數值 scale\n",
    "    if 'topo' in locals():\n",
    "        print(f\"🔬 Scale 資訊測試:\")\n",
    "        print(f\"  - 數值 Scale (從 TXT): {topo.data.data_scale}\")\n",
    "        print(f\"  - X 像素尺度: {topo.data.pixel_scale_x:.4f} nm/pixel\")\n",
    "        print(f\"  - Y 像素尺度: {topo.data.pixel_scale_y:.4f} nm/pixel\")\n",
    "    \n",
    "    # 在這裡添加您的實驗程式碼\n",
    "    # Add your experimental code here\n",
    "    \n",
    "else:\n",
    "    print(\"❌ 請先執行上面的初始化程式碼\")"
   ]
  }
 ],
 "metadata": {
  "kernelspec": {
   "display_name": "keen",
   "language": "python",
   "name": "python3"
  },
  "language_info": {
   "codemirror_mode": {
    "name": "ipython",
    "version": 3
   },
   "file_extension": ".py",
   "mimetype": "text/x-python",
   "name": "python",
   "nbconvert_exporter": "python",
   "pygments_lexer": "ipython3",
   "version": "3.13.3"
  }
 },
 "nbformat": 4,
 "nbformat_minor": 4
}
